{
 "cells": [
  {
   "cell_type": "code",
   "execution_count": 1,
   "id": "1da29ba3",
   "metadata": {},
   "outputs": [],
   "source": [
    "#Import module\n",
    "import sys\n",
    "import os\n",
    "import numpy as np\n",
    "import matplotlib.pyplot as plt\n",
    "from scipy.optimize import curve_fit\n",
    "from scipy import stats\n",
    "import scipy.optimize as optimization  \n",
    "import pandas as pd\n",
    "#Latex font\n",
    "import matplotlib as mpl\n",
    "from matplotlib import rc\n",
    "plt.rc('text', usetex=True)\n",
    "plt.rc('font', family='serif',size=16)"
   ]
  },
  {
   "cell_type": "code",
   "execution_count": 2,
   "id": "fb9638f7",
   "metadata": {},
   "outputs": [
    {
     "name": "stdout",
     "output_type": "stream",
     "text": [
      "2022_Feb_week4_Linear_fit_period.dat\r\n",
      "2022_Feb_week4_Linear_fit_period_Boyd.dat\r\n",
      "2022_Feb_week4_Linear_fit_period_This_work.dat\r\n",
      "2022_Feb_week4_OC_diagram.jpg\r\n",
      "2022_Feb_week4_OC_diagram.out\r\n",
      "2022_Feb_week4_Weighted_mean_calculation_Beuermann_2011_combined.out\r\n",
      "2022_Feb_week4_Weighted_mean_calculation_This_work_combined.out\r\n",
      "2022_Feb_week4_Weighted_mean_calculation_This_work_combined_Boyd.out\r\n",
      "2022_Feb_week4_new_ephemeris_LTT_fit.jpg\r\n",
      "2022_Feb_week4_new_ephemeris_LTT_fit_Beuermann_2011.jpg\r\n",
      "DP_Leo_LTT_fit.ipynb\r\n",
      "DP_Leo_LTT_fit_Beuermann_2011.ipynb\r\n",
      "DP_Leo_LTT_fit_Beuermann_2011_Res.jpg\r\n",
      "DP_Leo_LTT_fit_Boyd.ipynb\r\n",
      "DP_Leo_LTT_fit_Boyd_Res.jpg\r\n",
      "DP_Leo_LTT_fit_Demo.ipynb\r\n",
      "DP_Leo_LTT_fit_Demo.jpg\r\n",
      "DP_Leo_LTT_fit_Demo1.ipynb\r\n",
      "DP_Leo_LTT_fit_Demo1.jpg\r\n",
      "DP_Leo_LTT_fit_Demo1_Res.jpg\r\n",
      "DP_Leo_LTT_fit_Demo_Res.jpg\r\n",
      "DP_Leo_LTT_fit_Res.jpg\r\n",
      "DP_Leo_LTT_fit_weighted_data.ipynb\r\n",
      "DP_Leo_LTT_fit_weighted_data.jpg\r\n",
      "DP_Leo_LTT_fit_weighted_data_Beuermann_2011.ipynb\r\n",
      "DP_Leo_LTT_fit_weighted_data_Beuermann_2011_Res.jpg\r\n",
      "DP_Leo_LTT_fit_weighted_data_Boyd.ipynb\r\n",
      "DP_Leo_LTT_fit_weighted_data_Boyd_Res.jpg\r\n",
      "DP_Leo_LTT_fit_weighted_data_Res.jpg\r\n",
      "DP_Leo_fit.py\r\n",
      "DP_Leo_fit_demo2.ipynb\r\n",
      "DP_Leo_fit_demo5.ipynb\r\n",
      "DP_Leo_fit_weighted_mean.ipynb\r\n",
      "interporate.out\r\n",
      "interporate_dem0.out\r\n",
      "interporate_demo.out\r\n",
      "ocfit.out\r\n",
      "ocfit_out.out\r\n"
     ]
    }
   ],
   "source": [
    "ls"
   ]
  },
  {
   "cell_type": "code",
   "execution_count": 3,
   "id": "eaf032ab",
   "metadata": {},
   "outputs": [],
   "source": [
    "DP_Leo = open(\"2022_Feb_week4_Linear_fit_period_This_work.dat\",'r').readlines()\n",
    "N_dpleo = len(DP_Leo)\n",
    "\n",
    "#Read datat\n",
    "Cycle = []\n",
    "T_obs = []\n",
    "T_obs_err = []\n",
    "#Please change the input file\n",
    "for line in open(\"2022_Feb_week4_Linear_fit_period_This_work.dat\"):\n",
    "    li=line.strip()\n",
    "    if not li.startswith(\"#\"):\n",
    "        Cycle.append(float(li.split(\" \")[0]))\n",
    "        T_obs.append(float(li.split(\" \")[1]))\n",
    "        T_obs_err.append(float(li.split(\" \")[2]))"
   ]
  },
  {
   "cell_type": "code",
   "execution_count": 4,
   "id": "fb13ba21",
   "metadata": {},
   "outputs": [],
   "source": [
    "#New ephemeris\n",
    "T0_bjd = 2448773.2148464173\n",
    "T0_bjd_err = 2.9564294265740673e-09\n",
    "P0_day = 0.062362845525219396\n",
    "P0_day_err = 2.6193240365559364e-19"
   ]
  },
  {
   "cell_type": "code",
   "execution_count": 5,
   "id": "f1e14a4b",
   "metadata": {},
   "outputs": [],
   "source": [
    "#Arrays\n",
    "BJD_time_a = [i for i in range(N_dpleo)]\n",
    "Delta_aT = [i for i in range(N_dpleo)]\n",
    "Delta_aT_err = [i for i in range(N_dpleo)]\n",
    "E_af = [i for i in range(N_dpleo)] #float number\n",
    "E_ak = [i for i in range(N_dpleo)] #integer number\n",
    "E_aj = [i for i in range(N_dpleo)] #integer number\n",
    "P_aE = [i for i in range(N_dpleo)]\n",
    "P_err_aE = [i for i in range(N_dpleo)]\n",
    "T_aC_linear = [i for i in range(N_dpleo)]\n",
    "T_aO_linear = [i for i in range(N_dpleo)]\n",
    "P_aver_a = [i for i in range(N_dpleo)]\n",
    "P_aver_std_a = [i for i in range(N_dpleo)]"
   ]
  },
  {
   "cell_type": "code",
   "execution_count": 6,
   "id": "de6175b0",
   "metadata": {},
   "outputs": [
    {
     "name": "stdout",
     "output_type": "stream",
     "text": [
      "No. \t BJD_time \t Cycle \t T_O_linear \t T_C_linear \t OC_s \t\t OC_s_err\n"
     ]
    }
   ],
   "source": [
    "delta_tdb_tt = 0.0013/(24*60*60)\n",
    "OC_cal = []\n",
    "#print ('-----------------------------------------------------------------------------')\n",
    "#print ('Cycle \\t\\t T_O \\t   T_C \\t\\t BJD - 2450000 \\t OC_lin OC_err_Lin OC_occ')\n",
    "print('No. \\t BJD_time \\t Cycle \\t T_O_linear \\t T_C_linear \\t OC_s \\t\\t OC_s_err')\n",
    "#print ('-----------------------------------------------------------------------------')\n",
    "for i in range (0,N_dpleo):\n",
    "    BJD_time = np.array(T_obs)+delta_tdb_tt\n",
    "    BJD_time_a[i] = BJD_time\n",
    "    Delta_T = np.array(T_obs) - np.array(T0_bjd)\n",
    "    Delta_aT[i] = Delta_T #arrays\n",
    "    Delta_T_err = np.sqrt((np.array(T_obs_err)/np.array(T_obs))**2 + (np.array(T0_bjd_err)/np.array(T0_bjd))**2)\n",
    "    E_k = Cycle\n",
    "    E_ak[i] = E_k #arrays\n",
    "    #    print (Delta_T_err[i])\n",
    "    E_f = Delta_T / P0_day                      #Calculate cycle with float number\n",
    "    ##    print (E_f)                                 #print cycle with float number\n",
    "    E_af[i] = E_f #arrays\n",
    "    E_j = np.round(Delta_T / P0_day)           #Calculate cycle with integer number\n",
    "##print (Delta_T)\n",
    "    if  E_j[i] != 0:\n",
    "        P_E_day = Delta_T[i] / E_j[i]\n",
    "        P_aE[i] = P_E_day\n",
    "        P_E_err_day = np.abs((np.array(T_obs_err[i]) - np.array(T0_bjd_err)) / E_j[i])\n",
    "        P_err_aE[i] = P_E_err_day\n",
    "        T_O_linear = T0_bjd + P_aE[i]*E_j[i]               #Linear\n",
    "        T_aO_linear[i] = T_O_linear #arrays\n",
    "    else:\n",
    "        E_k[i] = 1\n",
    "        P_E_day = Delta_T[i] / E_k[i]\n",
    "#        print (P_E_day)\n",
    "        P_aE[i] = P_E_day\n",
    "        P_E_err_day = np.abs((np.array(T_obs_err[i]) - np.array(T0_bjd_err)) / E_k[i])\n",
    "        P_err_aE[i] = P_E_err_day\n",
    "        T_O_linear = T0_bjd + P_aE[i]*E_k[i]               #Linear\n",
    "        T_aO_linear[i] = T_O_linear #arrays\n",
    "#    print ('%0.6f' %(T_O))\n",
    "#print (E_j)                                #print cycle with integer number\n",
    "    if  E_j[i] != 0:\n",
    "        P_E_day = Delta_T[i] / E_j[i]\n",
    "        P_aE[i] = P_E_day\n",
    "        P_E_err_day = np.abs((np.array(T_obs_err[i]) - np.array(T0_bjd_err)) / E_j[i])\n",
    "#        print (P_E_err_day)\n",
    "        P_err_aE[i] = P_E_err_day\n",
    "        T_C_linear = T0_bjd + P0_day*E_j[i]              #Linear\n",
    "        T_aC_linear[i] = T_C_linear #arrays\n",
    "#    print (T_O, T_C)\n",
    "        OC = np.array(T_O_linear) - np.array(T_C_linear)\n",
    "        OC_s = (np.array(T_O_linear) - np.array(T_C_linear))*24*60*60\n",
    "        OC_err = np.abs(np.sqrt((np.array(P_err_aE[i])**2 + (np.array(P0_day_err)**2))) * np.array(E_j[i]))\n",
    "#        print (OC_err)\n",
    "        OC_s_err = OC_err*24*60*60\n",
    "    else:\n",
    "        P_E_day = Delta_T[i] / E_k[i]\n",
    "        P_aE[i] = P_E_day\n",
    "        P_E_err_day = np.abs((np.array(T_obs_err[i]) - np.array(T0_bjd_err)) / E_k[i])\n",
    "        P_err_aE[i] = P_E_err_day\n",
    "        T_C_linear = T0_bjd + P0_day*E_j[i]              #Linear\n",
    "        T_aC_linear[i] = T_C_linear #arrays\n",
    "#    print (T_O, T_C)\n",
    "        OC = np.array(T_O_linear) - np.array(T_C_linear)\n",
    "        OC_s = (np.array(T_O_linear) - np.array(T_C_linear))*24*60*60\n",
    "        OC_err = np.abs(np.sqrt((np.array(P_err_aE[i])**2)) *np.array(E_k[i]))\n",
    "#        print (OC_err)\n",
    "        OC_s_err = OC_err*24*60*60\n",
    "#    print ('%0.0f\\t%0.6f\\t%0.0f\\t%0.6f\\t%0.6f\\t%0.6f\\t%0.6f' %(i, BJD_time[i], Cycle[i], T_O_linear, T_C_linear, OC_s, OC_s_err))\n",
    "    OC_cal.append('%0.6f\\t%0.0f\\t%0.6f\\t%0.6f\\t%0.6f\\t%0.6f' %(BJD_time[i], Cycle[i], T_O_linear, T_C_linear, OC_s, OC_s_err))\n",
    "\n",
    "#P_aver = mean(P_aE[i])\n",
    "#P_aver_a[i] = P_aver\n",
    "#P_aver_std = np.std(P_aE[i])\n",
    "#P_aver_std = mean(P_err_aE[i])\n",
    "#P_aver_std_a[i] = P_aver_std\n",
    "#print('%0.11f %0.11f' %(P_aver, P_aver_std))\n",
    "\n",
    "rerults = OC_cal\n",
    "f = open(\"2022_Feb_week4_OC_diagram.out\", 'w')\n",
    "for i in range(len(rerults)):\n",
    "    f.write(str(rerults[i])+ '\\n')\n",
    "f.close()"
   ]
  },
  {
   "cell_type": "code",
   "execution_count": 7,
   "id": "cf44bd40",
   "metadata": {},
   "outputs": [
    {
     "data": {
      "image/png": "[encoded data removed]",
      "text/plain": [
       "<Figure size 720x360 with 1 Axes>"
      ]
     },
     "metadata": {
      "needs_background": "light"
     },
     "output_type": "display_data"
    }
   ],
   "source": [
    "#Plot O-C vs BJD\n",
    "Input  = '2022_Feb_week4_OC_diagram.out'\n",
    "Data   = np.genfromtxt(Input)\n",
    "\n",
    "N_BMJD = 2400000\n",
    "BJD_time = Data[:,0] - N_BMJD\n",
    "Cycle = Data[:,1]\n",
    "T_O_linear = Data[:,2]\n",
    "T_C_linear = Data[:,3]\n",
    "OC_s = Data[:,4]\n",
    "OC_s_err = Data[:,5]\n",
    "\n",
    " ##Plotgraph\n",
    "fig=plt.figure(figsize=(10, 5), tight_layout=True)\n",
    "plt.tick_params(direction='in', which='both', bottom='on',top='on', right = 'on')\n",
    "\n",
    "x1 = min(BJD_time)\n",
    "x2 = max(BJD_time)\n",
    "#plt.errorbar(BJD_time, OC_s, yerr=OC_s_err, fmt='o', color='limegreen')\n",
    "plt.errorbar(BJD_time, OC_s, yerr= OC_s_err, fmt='o', markersize=8, color='green',\n",
    "                    ecolor='lightgray')\n",
    "\n",
    "#Schwope_2002\n",
    "#plt.text(BJD_time_Schwope_2002[0], 300, '1979')\n",
    "#plt.text(BJD_time_Schwope_2002[3], 300, '1981')\n",
    "#plt.text(BJD_time_Schwope_2002[13], 300, '1984')\n",
    "#plt.text(BJD_time_Schwope_2002[17], 300, '1985')\n",
    "#plt.text(BJD_time_Schwope_2002[19]-100, 300, '1991')\n",
    "#plt.text(BJD_time_Schwope_2002[20], 300, '1992')\n",
    "#plt.text(BJD_time_Schwope_2002[22], 300, '1993')\n",
    "#plt.text(BJD_time_Schwope_2002[30], 300, '2000')\n",
    "#plt.text(BJD_time_Schwope_2002[32], 300, '2002')\n",
    "\n",
    "#plt.hlines(y= 0, xmin= x1, xmax= x2, colors='k', linestyles='dotted')\n",
    "#plt.xlim(x1,x2)\n",
    "#plt.ylim(-20,20)\n",
    "plt.xlabel('BJD - '+str(N_BMJD))\n",
    "plt.ylabel('O-C (sec)')\n",
    "#plt.legend()\n",
    "plt.grid(linestyle='dotted')\n",
    "######plt.title('O-C diagram: DP Leo')\n",
    "#output_filename = os.path.splitext(__file__)[0] + '.png'\n",
    "#plt.savefig(output_filename, dpi=1000)\n",
    "plt.savefig(\"2022_Feb_week4_OC_diagram.jpg\", dpi=1000)\n",
    "plt.show()"
   ]
  },
  {
   "cell_type": "code",
   "execution_count": 8,
   "id": "78a0553f",
   "metadata": {},
   "outputs": [],
   "source": [
    "#Read data ---#1\n",
    "Input = \"2022_Feb_week4_OC_diagram.out\"\n",
    "Data   = np.genfromtxt(Input)\n",
    "\n",
    "BJD_time = Data[:,0] - N_BMJD\n",
    "Epoch = Data[:,1]\n",
    "OC = Data[:,4]\n",
    "OC_err = Data[:,5]"
   ]
  },
  {
   "cell_type": "code",
   "execution_count": 9,
   "id": "7986b4e4",
   "metadata": {},
   "outputs": [
    {
     "name": "stdout",
     "output_type": "stream",
     "text": [
      "114\n"
     ]
    }
   ],
   "source": [
    "#t = T0_bjd + P0_day*Epoch\n",
    "x = BJD_time\n",
    "y = OC\n",
    "dy = OC_err\n",
    "\n",
    "len_x = len(x)\n",
    "print(len_x)\n",
    "#print(x)"
   ]
  },
  {
   "cell_type": "code",
   "execution_count": null,
   "id": "1458ef41",
   "metadata": {},
   "outputs": [],
   "source": []
  },
  {
   "cell_type": "code",
   "execution_count": 10,
   "id": "259110c9",
   "metadata": {},
   "outputs": [],
   "source": [
    "def LTT_fit(x,K,e,b,w):\n",
    "    return K*(1 - e*e)*np.sin((b*x) - w)/(1 + e*np.cos(b*x))"
   ]
  },
  {
   "cell_type": "code",
   "execution_count": 11,
   "id": "b25e54a3",
   "metadata": {},
   "outputs": [],
   "source": [
    "import scipy.optimize as optimization  \n",
    "#guess = (K,e,b,w)\n",
    "guess = [33.7, 0.39, 0.0005, -1.36]\n",
    "params, params_covariance = optimization.curve_fit(LTT_fit, x, y,sigma=dy, absolute_sigma=True,p0=guess)"
   ]
  },
  {
   "cell_type": "code",
   "execution_count": 22,
   "id": "83ddeb76",
   "metadata": {},
   "outputs": [
    {
     "name": "stdout",
     "output_type": "stream",
     "text": [
      "The Keplerian parameters:\n",
      "K = 47.96125336110731 +/- 0.5731804355226414 [m/s]\n",
      "e = -0.1512828985601084 +/- 0.01383154840252732 [days]\n",
      "b = 0.0004909804255834693 +/- 1.8947813041839002e-06 [rad]\n",
      "w = -3.809157005999956 +/- 0.11084754172852593 [rad]\n",
      "w_deg = -218.2486199464863 +/- 6.351096310444814 [deg]\n"
     ]
    }
   ],
   "source": [
    "K = params[0]\n",
    "e = params[1]\n",
    "b = params[2]\n",
    "w = params[3]\n",
    "\n",
    "dK = params_covariance[0,0]\n",
    "de = params_covariance[1,1]\n",
    "db = params_covariance[2,2]\n",
    "dw = params_covariance[3,3]\n",
    "\n",
    "ocfit = LTT_fit(x,K,e,b,w)\n",
    "\n",
    "\n",
    "print(\"The Keplerian parameters:\")\n",
    "print(\"K =\", K, \"+/-\", dK**0.5, \"[m/s]\")\n",
    "print(\"e =\", e, \"+/-\", de**0.5, \"[days]\")\n",
    "print(\"b =\", b, \"+/-\", db**0.5, \"[rad]\")\n",
    "print(\"w =\", w, \"+/-\", dw**0.5, \"[rad]\")\n",
    "print(\"w_deg =\", w*(180/np.pi), \"+/-\", dw**0.5*(180/np.pi), \"[deg]\")"
   ]
  },
  {
   "cell_type": "code",
   "execution_count": 13,
   "id": "d3097bc9",
   "metadata": {},
   "outputs": [
    {
     "name": "stdout",
     "output_type": "stream",
     "text": [
      "12797.22159944116\n"
     ]
    }
   ],
   "source": [
    "# Calculate the period and tau\n",
    "P_d = 2*np.pi/b\n",
    "tau = 2*np.pi/b\n",
    "\n",
    "print(P_d)"
   ]
  },
  {
   "cell_type": "code",
   "execution_count": 14,
   "id": "34acdd57",
   "metadata": {},
   "outputs": [
    {
     "name": "stdout",
     "output_type": "stream",
     "text": [
      "[44214.55325    44514.8914498  44815.22964959 45115.56784939\n",
      " 45415.90604918 45716.24424898 46016.58244878 46316.92064857\n",
      " 46617.25884837 46917.59704816 47217.93524796 47518.27344775\n",
      " 47818.61164755 48118.94984735 48419.28804714 48719.62624694\n",
      " 49019.96444673 49320.30264653 49620.64084633 49920.97904612\n",
      " 50221.31724592 50521.65544571 50821.99364551 51122.33184531\n",
      " 51422.6700451  51723.0082449  52023.34644469 52323.68464449\n",
      " 52624.02284429 52924.36104408 53224.69924388 53525.03744367\n",
      " 53825.37564347 54125.71384327 54426.05204306 54726.39024286\n",
      " 55026.72844265 55327.06664245 55627.40484224 55927.74304204\n",
      " 56228.08124184 56528.41944163 56828.75764143 57129.09584122\n",
      " 57429.43404102 57729.77224082 58030.11044061 58330.44864041\n",
      " 58630.7868402  58931.12504   ]\n",
      "[ 1.53635284e+01  2.06855058e+01  2.55897947e+01  3.00131552e+01\n",
      "  3.38945072e+01  3.71741306e+01  3.97932586e+01  4.16941491e+01\n",
      "  4.28207255e+01  4.31198914e+01  4.25436183e+01  4.10518913e+01\n",
      "  3.86165496e+01  3.52259762e+01  3.08904580e+01  2.56478564e+01\n",
      "  1.95690117e+01  1.27620809e+01  5.37484034e+00 -2.40604761e+00\n",
      " -1.03596324e+01 -1.82395265e+01 -2.57867289e+01 -3.27453425e+01\n",
      " -3.88794005e+01 -4.39886023e+01 -4.79208219e+01 -5.05797935e+01\n",
      " -5.19272617e+01 -5.19798630e+01 -5.08018114e+01 -4.84949299e+01\n",
      " -4.51876488e+01 -4.10243686e+01 -3.61561747e+01 -3.07334500e+01\n",
      " -2.49005400e+01 -1.87923474e+01 -1.25325685e+01 -6.23321516e+00\n",
      "  4.93123375e-03  6.09124981e+00  1.19438530e+01  1.74880037e+01\n",
      "  2.26545277e+01  2.73783375e+01  3.15971542e+01  3.52505041e+01\n",
      "  3.82790634e+01  4.06244280e+01]\n",
      "Reduced_chisq: 1.3005315794065808\n"
     ]
    }
   ],
   "source": [
    "x_min, x_max = np.amin(BJD_time), np.amax(BJD_time)\n",
    "x_line = np.linspace(x_min, x_max)\n",
    "y_line = LTT_fit(x_line, *params) #### For all interporation \n",
    "#print(x)\n",
    "print(x_line)\n",
    "#print(y)\n",
    "print(y_line)\n",
    "#print(ocfit)\n",
    "#print(x)\n",
    "\n",
    "#Reduced_chisqrt\n",
    "m = 5\n",
    "dof = len_x - m\n",
    "Chi_sqr = ((y - ocfit)**2/(dy)**2)/dof\n",
    "Reduced_chisq = sum(Chi_sqr)\n",
    "print(\"Reduced_chisq:\",Reduced_chisq)"
   ]
  },
  {
   "cell_type": "code",
   "execution_count": 15,
   "id": "d343c421",
   "metadata": {},
   "outputs": [
    {
     "data": {
      "image/png": "[encoded data removed]",
      "text/plain": [
       "<Figure size 504x360 with 1 Axes>"
      ]
     },
     "metadata": {
      "needs_background": "light"
     },
     "output_type": "display_data"
    }
   ],
   "source": [
    "N_BMJD = 2400000\n",
    "#print(phase)\n",
    "#fig,ax = plt.subplots()\n",
    "fig=plt.figure(figsize=(7, 5), tight_layout=True)\n",
    "plt.tick_params(direction='in', which='both', bottom='on',top='on', right = 'on')\n",
    "#plt.errorbar(x,y,dy,fmt='ok')\n",
    "plt.errorbar(x, y, yerr= dy, fmt='o', markersize=8, color='blue', ecolor='lightgray')\n",
    "plt.plot(x_line,y_line, '-r')\n",
    "\n",
    "plt.xlabel('BJD-'+str(N_BMJD))\n",
    "plt.ylabel('O-C (sec)')\n",
    "plt.show()"
   ]
  },
  {
   "cell_type": "code",
   "execution_count": 16,
   "id": "602908d3",
   "metadata": {},
   "outputs": [
    {
     "data": {
      "image/png": "[encoded data removed]",
      "text/plain": [
       "<Figure size 720x360 with 2 Axes>"
      ]
     },
     "metadata": {
      "needs_background": "light"
     },
     "output_type": "display_data"
    }
   ],
   "source": [
    "fig, (ax0, ax1) = plt.subplots(2, 1, gridspec_kw={'height_ratios': [4, 1]}, sharex=True, sharey=False, figsize=(10, 5), tight_layout=True)\n",
    "plt.xlabel('BJD-'+str(N_BMJD))\n",
    "\n",
    "ax0.tick_params(direction='in', which='both', bottom='on',top='on', right = 'on')\n",
    "ax1.tick_params(direction='in', which='both', bottom='on',top='on', right = 'on')\n",
    "\n",
    "ax0.errorbar(x, y, yerr= dy, fmt='o', markersize=8, color='blue', ecolor='lightgray')\n",
    "ax0.plot(x_line, y_line, '-', color='red')\n",
    "\n",
    "ax0.set_ylabel('O-C (sec)')\n",
    "ax1.set_ylabel('Residuals (sec)')\n",
    "\n",
    "\n",
    "Residual = y-ocfit\n",
    "\n",
    "ax1.errorbar(x, Residual, yerr= dy, fmt='o', markersize=8, color='black', ecolor='lightgray')\n",
    "\n",
    "ax1.axhline(y=0, color='black', linestyle='-')\n",
    "\n",
    "#plt.savefig(\"2022_Feb_week4_new_ephemeris_sin_fit_Res.jpg\", dpi=1000)\n",
    "\n",
    "plt.show()"
   ]
  },
  {
   "cell_type": "code",
   "execution_count": 17,
   "id": "4602d9dc",
   "metadata": {},
   "outputs": [],
   "source": [
    "N = 700\n",
    "x_range = [i for i in range(N)]\n",
    "x_range_a = [i for i in range(N)]\n",
    "y_range = [i for i in range(len(x_range))]\n",
    "step=1*100\n",
    "#step\n",
    "\n",
    "interporate = []\n",
    "for i in range(300, N):\n",
    "    x_range[i] = i*step\n",
    "    y_range[i] = LTT_fit(x_range[i], *params)\n",
    "#    print(x_range[i], y_range[i])\n",
    "    interporate.append('%0.0f %0.2f %0.5f' %(i, x_range[i], y_range[i]))\n",
    "    \n",
    "data_out = interporate\n",
    "f = open(\"interporate.out\", 'w')\n",
    "for i in range(len(data_out)):\n",
    "    f.write(str(data_out[i])+ '\\n')\n",
    "f.close()"
   ]
  },
  {
   "cell_type": "code",
   "execution_count": 18,
   "id": "3e7b4ad8",
   "metadata": {},
   "outputs": [],
   "source": [
    "InputFile_out = \"interporate.out\"\n",
    "Data_out   = np.genfromtxt(InputFile_out)\n",
    "\n",
    "#Read the wd data: BJD vs. Relative flux\n",
    "x_range = Data_out[:,1]\n",
    "y_range = Data_out[:,2]\n",
    "\n",
    "#print(y_range)"
   ]
  },
  {
   "cell_type": "code",
   "execution_count": 19,
   "id": "cd5e987a",
   "metadata": {},
   "outputs": [
    {
     "data": {
      "image/png": "[encoded data removed]",
      "text/plain": [
       "<Figure size 720x360 with 1 Axes>"
      ]
     },
     "metadata": {
      "needs_background": "light"
     },
     "output_type": "display_data"
    }
   ],
   "source": [
    "#Plotgraph\n",
    "fig=plt.figure(figsize=(10, 5))\n",
    "plt.errorbar(x, y, yerr= dy, fmt='o', markersize=8, color='blue', ecolor='lightgray',label='Data')\n",
    "# create a line plot for the mapping function\n",
    "plt.plot(x_range, y_range, '-', color='red',label='LTT\\_fit, $\\chi_{red}^{2}$ = '+str('%0.3f' %(Reduced_chisq)))\n",
    "#plt.plot(BJD_time, OC_s_ecc, lw=2, color='black')\n",
    "#plt.xlim(-6000,6000)\n",
    "#plt.ylim(-200,200)\n",
    "#plt.ylim(-40,60)\n",
    "plt.xlabel('BJD-'+str(N_BMJD))\n",
    "plt.ylabel('O-C (sec)')\n",
    "plt.grid(linestyle='dotted')\n",
    "plt.legend(loc=\"best\")\n",
    "#####plt.title('O-C diagram: DP Leo')\n",
    "#output_filename = os.path.splitext(__file__)[0] + '.png'\n",
    "plt.savefig(\"DP_Leo_LTT_fit_Demo1.jpg\", dpi=1000)\n",
    "plt.show()"
   ]
  },
  {
   "cell_type": "code",
   "execution_count": 20,
   "id": "7d812528",
   "metadata": {},
   "outputs": [
    {
     "data": {
      "image/png": "[encoded data removed]",
      "text/plain": [
       "<Figure size 720x360 with 2 Axes>"
      ]
     },
     "metadata": {
      "needs_background": "light"
     },
     "output_type": "display_data"
    }
   ],
   "source": [
    "fig, (ax0, ax1) = plt.subplots(2, 1, gridspec_kw={'height_ratios': [4, 1]}, sharex=True, sharey=False, figsize=(10, 5), tight_layout=True)\n",
    "plt.xlabel('BJD-'+str(N_BMJD))\n",
    "\n",
    "ax0.tick_params(direction='in', which='both', bottom='on',top='on', right = 'on')\n",
    "ax1.tick_params(direction='in', which='both', bottom='on',top='on', right = 'on')\n",
    "\n",
    "ax0.errorbar(x, y, yerr= dy, fmt='o', markersize=8, color='blue', ecolor='lightgray',label='Data')\n",
    "ax0.plot(x_range, y_range, '-', color='red',label='LTT\\_fit, $\\chi_{red}^{2}$ = '+str('%0.3f' %(Reduced_chisq)))\n",
    "\n",
    "ax0.set_ylabel('O-C (sec)')\n",
    "ax0.legend(loc=\"best\")\n",
    "\n",
    "Residual = y-ocfit\n",
    "\n",
    "ax1.set_ylabel('Residuals (sec)')\n",
    "ax1.errorbar(x, Residual, yerr= dy, fmt='o', markersize=8, color='black', ecolor='lightgray')\n",
    "ax1.axhline(y=0, color='black', linestyle='-')\n",
    "\n",
    "plt.savefig(\"DP_Leo_LTT_fit_Demo1_Res.jpg\", dpi=1000)\n",
    "\n",
    "plt.show()"
   ]
  },
  {
   "cell_type": "code",
   "execution_count": null,
   "id": "feb24e4e",
   "metadata": {},
   "outputs": [],
   "source": []
  }
 ],
 "metadata": {
  "kernelspec": {
   "display_name": "Python 3 (ipykernel)",
   "language": "python",
   "name": "python3"
  },
  "language_info": {
   "codemirror_mode": {
    "name": "ipython",
    "version": 3
   },
   "file_extension": ".py",
   "mimetype": "text/x-python",
   "name": "python",
   "nbconvert_exporter": "python",
   "pygments_lexer": "ipython3",
   "version": "3.9.7"
  }
 },
 "nbformat": 4,
 "nbformat_minor": 5
}
