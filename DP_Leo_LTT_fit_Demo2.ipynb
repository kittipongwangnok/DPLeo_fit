{
 "cells": [
  {
   "cell_type": "code",
   "execution_count": 1,
   "id": "dcb3e588",
   "metadata": {},
   "outputs": [],
   "source": [
    "#Import module\n",
    "import sys\n",
    "import os\n",
    "import numpy as np\n",
    "import matplotlib.pyplot as plt\n",
    "from scipy.optimize import curve_fit\n",
    "from scipy import stats\n",
    "import scipy.optimize as optimization  \n",
    "import pandas as pd\n",
    "#Latex font\n",
    "import matplotlib as mpl\n",
    "from matplotlib import rc\n",
    "plt.rc('text', usetex=True)\n",
    "plt.rc('font', family='serif',size=16)"
   ]
  },
  {
   "cell_type": "code",
   "execution_count": 2,
   "id": "5183f13b",
   "metadata": {},
   "outputs": [
    {
     "name": "stdout",
     "output_type": "stream",
     "text": [
      "2022_Feb_week4_Linear_fit_period.dat\r\n",
      "2022_Feb_week4_Linear_fit_period_Boyd.dat\r\n",
      "2022_Feb_week4_Linear_fit_period_This_work.dat\r\n",
      "2022_Feb_week4_OC_diagram.jpg\r\n",
      "2022_Feb_week4_OC_diagram.out\r\n",
      "2022_Feb_week4_Weighted_mean_calculation_Beuermann_2011_combined.out\r\n",
      "2022_Feb_week4_Weighted_mean_calculation_This_work_combined.out\r\n",
      "2022_Feb_week4_Weighted_mean_calculation_This_work_combined_Boyd.out\r\n",
      "2022_Feb_week4_new_ephemeris_LTT_fit.jpg\r\n",
      "2022_Feb_week4_new_ephemeris_LTT_fit_Beuermann_2011.jpg\r\n",
      "DPLeo.txt\r\n",
      "DP_Leo_LTT_fit.ipynb\r\n",
      "DP_Leo_LTT_fit_Beuermann_2011.ipynb\r\n",
      "DP_Leo_LTT_fit_Beuermann_2011_Res.jpg\r\n",
      "DP_Leo_LTT_fit_Boyd.ipynb\r\n",
      "DP_Leo_LTT_fit_Boyd_Res.jpg\r\n",
      "DP_Leo_LTT_fit_Demo.ipynb\r\n",
      "DP_Leo_LTT_fit_Demo.jpg\r\n",
      "DP_Leo_LTT_fit_Demo1.ipynb\r\n",
      "DP_Leo_LTT_fit_Demo1.jpg\r\n",
      "DP_Leo_LTT_fit_Demo1_Res.jpg\r\n",
      "DP_Leo_LTT_fit_Demo2.ipynb\r\n",
      "DP_Leo_LTT_fit_Demo2_Res.jpg\r\n",
      "DP_Leo_LTT_fit_Demo3.ipynb\r\n",
      "DP_Leo_LTT_fit_Demo_Beuermann_2011.ipynb\r\n",
      "DP_Leo_LTT_fit_Demo_Res.jpg\r\n",
      "DP_Leo_LTT_fit_Res.jpg\r\n",
      "DP_Leo_LTT_fit_weighted_data.ipynb\r\n",
      "DP_Leo_LTT_fit_weighted_data.jpg\r\n",
      "DP_Leo_LTT_fit_weighted_data_Beuermann_2011.ipynb\r\n",
      "DP_Leo_LTT_fit_weighted_data_Beuermann_2011_Res.jpg\r\n",
      "DP_Leo_LTT_fit_weighted_data_Boyd.ipynb\r\n",
      "DP_Leo_LTT_fit_weighted_data_Boyd_Res.jpg\r\n",
      "DP_Leo_LTT_fit_weighted_data_Demo.ipynb\r\n",
      "DP_Leo_LTT_fit_weighted_data_Demo_Res.jpg\r\n",
      "DP_Leo_LTT_fit_weighted_data_Res.jpg\r\n",
      "DP_Leo_fit.py\r\n",
      "DP_Leo_fit_demo2.ipynb\r\n",
      "DP_Leo_fit_demo5.ipynb\r\n",
      "DP_Leo_fit_weighted_mean.ipynb\r\n",
      "interporate.out\r\n",
      "interporate_dem0.out\r\n",
      "interporate_demo.out\r\n",
      "ocfit.out\r\n",
      "ocfit_out.out\r\n"
     ]
    }
   ],
   "source": [
    "ls"
   ]
  },
  {
   "cell_type": "code",
   "execution_count": 3,
   "id": "02f8a279",
   "metadata": {},
   "outputs": [],
   "source": [
    "DP_Leo = open(\"2022_Feb_week4_Linear_fit_period_This_work.dat\",'r').readlines()\n",
    "N_dpleo = len(DP_Leo)\n",
    "\n",
    "#Read datat\n",
    "Cycle = []\n",
    "T_obs = []\n",
    "T_obs_err = []\n",
    "#Please change the input file\n",
    "for line in open(\"2022_Feb_week4_Linear_fit_period_This_work.dat\"):\n",
    "    li=line.strip()\n",
    "    if not li.startswith(\"#\"):\n",
    "        Cycle.append(float(li.split(\" \")[0]))\n",
    "        T_obs.append(float(li.split(\" \")[1]))\n",
    "        T_obs_err.append(float(li.split(\" \")[2]))"
   ]
  },
  {
   "cell_type": "code",
   "execution_count": 4,
   "id": "7bdb8be4",
   "metadata": {},
   "outputs": [],
   "source": [
    "#New ephemeris\n",
    "T0_bjd = 2448773.2148464173\n",
    "T0_bjd_err = 2.9564294265740673e-09\n",
    "P0_day = 0.062362845525219396\n",
    "P0_day_err = 2.6193240365559364e-19\n",
    "\n",
    "#B\n",
    "#T0_bjd = 2448773.21461\n",
    "#T0_bjd_err = 0.00009\n",
    "#P0_day = 0.0623628426\n",
    "#P0_day_err = 0.0000000006\n",
    "\n",
    "#S\n",
    "#T0_bjd = 2448773.215071\n",
    "#T0_bjd_err = 0.000018\n",
    "#P0_day = 0.06236283691\n",
    "#P0_day_err = 0.00000000070"
   ]
  },
  {
   "cell_type": "code",
   "execution_count": 5,
   "id": "4ab750f5",
   "metadata": {},
   "outputs": [],
   "source": [
    "#Arrays\n",
    "BJD_time_a = [i for i in range(N_dpleo)]\n",
    "Delta_aT = [i for i in range(N_dpleo)]\n",
    "Delta_aT_err = [i for i in range(N_dpleo)]\n",
    "E_af = [i for i in range(N_dpleo)] #float number\n",
    "E_ak = [i for i in range(N_dpleo)] #integer number\n",
    "E_aj = [i for i in range(N_dpleo)] #integer number\n",
    "P_aE = [i for i in range(N_dpleo)]\n",
    "P_err_aE = [i for i in range(N_dpleo)]\n",
    "T_aC_linear = [i for i in range(N_dpleo)]\n",
    "T_aO_linear = [i for i in range(N_dpleo)]\n",
    "P_aver_a = [i for i in range(N_dpleo)]\n",
    "P_aver_std_a = [i for i in range(N_dpleo)]"
   ]
  },
  {
   "cell_type": "code",
   "execution_count": 6,
   "id": "6f39bff2",
   "metadata": {},
   "outputs": [
    {
     "name": "stdout",
     "output_type": "stream",
     "text": [
      "No. \t BJD_time \t Cycle \t T_O_linear \t T_C_linear \t OC_s \t\t OC_s_err\n"
     ]
    }
   ],
   "source": [
    "delta_tdb_tt = 0.0013/(24*60*60)\n",
    "OC_cal = []\n",
    "#print ('-----------------------------------------------------------------------------')\n",
    "#print ('Cycle \\t\\t T_O \\t   T_C \\t\\t BJD - 2450000 \\t OC_lin OC_err_Lin OC_occ')\n",
    "print('No. \\t BJD_time \\t Cycle \\t T_O_linear \\t T_C_linear \\t OC_s \\t\\t OC_s_err')\n",
    "#print ('-----------------------------------------------------------------------------')\n",
    "for i in range (0,N_dpleo):\n",
    "    BJD_time = np.array(T_obs)+delta_tdb_tt\n",
    "    BJD_time_a[i] = BJD_time\n",
    "    Delta_T = np.array(T_obs) - np.array(T0_bjd)\n",
    "    Delta_aT[i] = Delta_T #arrays\n",
    "    Delta_T_err = np.sqrt((np.array(T_obs_err)/np.array(T_obs))**2 + (np.array(T0_bjd_err)/np.array(T0_bjd))**2)\n",
    "    E_k = Cycle\n",
    "    E_ak[i] = E_k #arrays\n",
    "    #    print (Delta_T_err[i])\n",
    "    E_f = Delta_T / P0_day                      #Calculate cycle with float number\n",
    "    ##    print (E_f)                                 #print cycle with float number\n",
    "    E_af[i] = E_f #arrays\n",
    "    E_j = np.round(Delta_T / P0_day)           #Calculate cycle with integer number\n",
    "##print (Delta_T)\n",
    "    if  E_j[i] != 0:\n",
    "        P_E_day = Delta_T[i] / E_j[i]\n",
    "        P_aE[i] = P_E_day\n",
    "        P_E_err_day = np.abs((np.array(T_obs_err[i]) - np.array(T0_bjd_err)) / E_j[i])\n",
    "        P_err_aE[i] = P_E_err_day\n",
    "        T_O_linear = T0_bjd + P_aE[i]*E_j[i]               #Linear\n",
    "        T_aO_linear[i] = T_O_linear #arrays\n",
    "    else:\n",
    "        E_k[i] = 1\n",
    "        P_E_day = Delta_T[i] / E_k[i]\n",
    "#        print (P_E_day)\n",
    "        P_aE[i] = P_E_day\n",
    "        P_E_err_day = np.abs((np.array(T_obs_err[i]) - np.array(T0_bjd_err)) / E_k[i])\n",
    "        P_err_aE[i] = P_E_err_day\n",
    "        T_O_linear = T0_bjd + P_aE[i]*E_k[i]               #Linear\n",
    "        T_aO_linear[i] = T_O_linear #arrays\n",
    "#    print ('%0.6f' %(T_O))\n",
    "#print (E_j)                                #print cycle with integer number\n",
    "    if  E_j[i] != 0:\n",
    "        P_E_day = Delta_T[i] / E_j[i]\n",
    "        P_aE[i] = P_E_day\n",
    "        P_E_err_day = np.abs((np.array(T_obs_err[i]) - np.array(T0_bjd_err)) / E_j[i])\n",
    "#        print (P_E_err_day)\n",
    "        P_err_aE[i] = P_E_err_day\n",
    "        T_C_linear = T0_bjd + P0_day*E_j[i]              #Linear\n",
    "        T_aC_linear[i] = T_C_linear #arrays\n",
    "#    print (T_O, T_C)\n",
    "        OC = np.array(T_O_linear) - np.array(T_C_linear)\n",
    "        OC_s = (np.array(T_O_linear) - np.array(T_C_linear))*24*60*60\n",
    "        OC_err = np.abs(np.sqrt((np.array(P_err_aE[i])**2 + (np.array(P0_day_err)**2))) * np.array(E_j[i]))\n",
    "#        print (OC_err)\n",
    "        OC_s_err = OC_err*24*60*60\n",
    "    else:\n",
    "        P_E_day = Delta_T[i] / E_k[i]\n",
    "        P_aE[i] = P_E_day\n",
    "        P_E_err_day = np.abs((np.array(T_obs_err[i]) - np.array(T0_bjd_err)) / E_k[i])\n",
    "        P_err_aE[i] = P_E_err_day\n",
    "        T_C_linear = T0_bjd + P0_day*E_j[i]              #Linear\n",
    "        T_aC_linear[i] = T_C_linear #arrays\n",
    "#    print (T_O, T_C)\n",
    "        OC = np.array(T_O_linear) - np.array(T_C_linear)\n",
    "        OC_s = (np.array(T_O_linear) - np.array(T_C_linear))*24*60*60\n",
    "        OC_err = np.abs(np.sqrt((np.array(P_err_aE[i])**2)) *np.array(E_k[i]))\n",
    "#        print (OC_err)\n",
    "        OC_s_err = OC_err*24*60*60\n",
    "#    print ('%0.0f\\t%0.6f\\t%0.0f\\t%0.6f\\t%0.6f\\t%0.6f\\t%0.6f' %(i, BJD_time[i], Cycle[i], T_O_linear, T_C_linear, OC_s, OC_s_err))\n",
    "    OC_cal.append('%0.6f\\t%0.0f\\t%0.6f\\t%0.6f\\t%0.6f\\t%0.6f' %(BJD_time[i], Cycle[i], T_O_linear, T_C_linear, OC_s, OC_s_err))\n",
    "\n",
    "#P_aver = mean(P_aE[i])\n",
    "#P_aver_a[i] = P_aver\n",
    "#P_aver_std = np.std(P_aE[i])\n",
    "#P_aver_std = mean(P_err_aE[i])\n",
    "#P_aver_std_a[i] = P_aver_std\n",
    "#print('%0.11f %0.11f' %(P_aver, P_aver_std))\n",
    "\n",
    "rerults = OC_cal\n",
    "f = open(\"2022_Feb_week4_OC_diagram.out\", 'w')\n",
    "for i in range(len(rerults)):\n",
    "    f.write(str(rerults[i])+ '\\n')\n",
    "f.close()"
   ]
  },
  {
   "cell_type": "code",
   "execution_count": 7,
   "id": "96b1eb3b",
   "metadata": {},
   "outputs": [
    {
     "data": {
      "image/png": "[encoded data removed]",
      "text/plain": [
       "<Figure size 720x360 with 1 Axes>"
      ]
     },
     "metadata": {
      "needs_background": "light"
     },
     "output_type": "display_data"
    }
   ],
   "source": [
    "#Plot O-C vs BJD\n",
    "Input  = '2022_Feb_week4_OC_diagram.out'\n",
    "Data   = np.genfromtxt(Input)\n",
    "\n",
    "N_BMJD = 2400000\n",
    "BJD_time = Data[:,0] - N_BMJD\n",
    "Cycle = Data[:,1]\n",
    "T_O_linear = Data[:,2]\n",
    "T_C_linear = Data[:,3]\n",
    "OC_s = Data[:,4]\n",
    "OC_s_err = Data[:,5]\n",
    "\n",
    " ##Plotgraph\n",
    "fig=plt.figure(figsize=(10, 5), tight_layout=True)\n",
    "plt.tick_params(direction='in', which='both', bottom='on',top='on', right = 'on')\n",
    "\n",
    "x1 = min(BJD_time)\n",
    "x2 = max(BJD_time)\n",
    "#plt.errorbar(BJD_time, OC_s, yerr=OC_s_err, fmt='o', color='limegreen')\n",
    "plt.errorbar(BJD_time, OC_s, yerr= OC_s_err, fmt='o', markersize=8, color='green',\n",
    "                    ecolor='lightgray')\n",
    "\n",
    "#Schwope_2002\n",
    "#plt.text(BJD_time_Schwope_2002[0], 300, '1979')\n",
    "#plt.text(BJD_time_Schwope_2002[3], 300, '1981')\n",
    "#plt.text(BJD_time_Schwope_2002[13], 300, '1984')\n",
    "#plt.text(BJD_time_Schwope_2002[17], 300, '1985')\n",
    "#plt.text(BJD_time_Schwope_2002[19]-100, 300, '1991')\n",
    "#plt.text(BJD_time_Schwope_2002[20], 300, '1992')\n",
    "#plt.text(BJD_time_Schwope_2002[22], 300, '1993')\n",
    "#plt.text(BJD_time_Schwope_2002[30], 300, '2000')\n",
    "#plt.text(BJD_time_Schwope_2002[32], 300, '2002')\n",
    "\n",
    "#plt.hlines(y= 0, xmin= x1, xmax= x2, colors='k', linestyles='dotted')\n",
    "#plt.xlim(x1,x2)\n",
    "#plt.ylim(-20,20)\n",
    "plt.xlabel('BJD - '+str(N_BMJD))\n",
    "plt.ylabel('O-C (sec)')\n",
    "#plt.legend()\n",
    "plt.grid(linestyle='dotted')\n",
    "######plt.title('O-C diagram: DP Leo')\n",
    "#output_filename = os.path.splitext(__file__)[0] + '.png'\n",
    "#plt.savefig(output_filename, dpi=1000)\n",
    "plt.savefig(\"2022_Feb_week4_OC_diagram.jpg\", dpi=1000)\n",
    "plt.show()"
   ]
  },
  {
   "cell_type": "code",
   "execution_count": 8,
   "id": "86cbb00c",
   "metadata": {},
   "outputs": [],
   "source": [
    "#Read data ---#1\n",
    "Input = \"2022_Feb_week4_OC_diagram.out\"\n",
    "Data   = np.genfromtxt(Input)\n",
    "\n",
    "BJD_time = Data[:,0] - N_BMJD\n",
    "Epoch = Data[:,1]\n",
    "OC = Data[:,4]\n",
    "OC_err = Data[:,5]"
   ]
  },
  {
   "cell_type": "code",
   "execution_count": 9,
   "id": "624a535f",
   "metadata": {},
   "outputs": [],
   "source": [
    "#t = T0_bjd + P0_day*Epoch\n",
    "x = BJD_time\n",
    "y = OC\n",
    "dy = OC_err\n",
    "\n",
    "len_x = len(x)\n",
    "#print(len_x)\n",
    "#print(x)"
   ]
  },
  {
   "cell_type": "code",
   "execution_count": 10,
   "id": "3ceb402c",
   "metadata": {},
   "outputs": [],
   "source": [
    "m = 0\n",
    "c = 0\n",
    "K = 33.7        #m/s\n",
    "e = 0               #No-unit\n",
    "b = 0.0005\n",
    "w = -3.05           #rad"
   ]
  },
  {
   "cell_type": "code",
   "execution_count": 11,
   "id": "655c385d",
   "metadata": {},
   "outputs": [],
   "source": [
    "def LTT_fit(x,m, c, K,e,b,w):\n",
    "    return m*x + c + K*(1 - e*e)*np.sin(b*x - w)/(1 + e*np.cos(b*x))"
   ]
  },
  {
   "cell_type": "code",
   "execution_count": 12,
   "id": "f7ef400b",
   "metadata": {},
   "outputs": [],
   "source": [
    "import scipy.optimize as optimization  \n",
    "guess = (m,c,K,e,b,w)\n",
    "#guess = [41.9455, 0.39, 0.0005, -1.36]\n",
    "params, params_covariance = optimization.curve_fit(LTT_fit, x, y,sigma=dy, absolute_sigma=True,p0=guess)"
   ]
  },
  {
   "cell_type": "code",
   "execution_count": 13,
   "id": "3b57a4a5",
   "metadata": {},
   "outputs": [],
   "source": [
    "m = params[0]\n",
    "c = params[1]\n",
    "K = params[2]\n",
    "e = params[3]\n",
    "b = params[4]\n",
    "w = params[5]\n",
    "\n",
    "dm = params_covariance[0,0]\n",
    "dc = params_covariance[1,1]\n",
    "dK = params_covariance[2,2]\n",
    "de = params_covariance[3,3]\n",
    "db = params_covariance[4,4]\n",
    "dw = params_covariance[5,5]\n",
    "\n",
    "ocfit = LTT_fit(x,m,c,K,e,b,w)\n",
    "\n",
    "if e<0:\n",
    "    w -= np.pi\n",
    "    e *= -1\n",
    "    w_deg = w*180/np.pi"
   ]
  },
  {
   "cell_type": "code",
   "execution_count": 14,
   "id": "6e813310",
   "metadata": {},
   "outputs": [
    {
     "name": "stdout",
     "output_type": "stream",
     "text": [
      "The Keplerian parameters:\n",
      "m = 0.0005533582013790006 +/- 0.00021940638447339616 [s]\n",
      "c = -34.52430795132174 +/- 10.268360391564046 [s]\n",
      "K = 46.990181982894875 +/- 0.7233208287635126 [s]\n",
      "e = 0.1590980049151988 +/- 0.025623899780214718 [days]\n",
      "b = 0.0005054239000351478 +/- 6.742673876025491e-06 [rad]\n",
      "w = -6.198833209349297 +/- 0.3258670852039465 [rad]\n",
      "w_deg = -355.1669808012498 +/- 18.670808664416132 [deg]\n",
      "Pc = 12431.516014067885 +/- 13.901341812716499 [days]\n",
      "Pc_yr = 34.03563590436108 +/- 0.03805979962413826 [years]\n",
      "emi-major axis = 10.502416711789865 +/- 0.00782943846939566 [AU]\n",
      "Mass sin(i)Mp= 5.288142415574121 +/- 0.058914307856029025 [MJ]\n"
     ]
    }
   ],
   "source": [
    "print(\"The Keplerian parameters:\")\n",
    "print(\"m =\", m, \"+/-\", dm**0.5, \"[s]\")\n",
    "print(\"c =\", c, \"+/-\", dc**0.5, \"[s]\")\n",
    "print(\"K =\", K, \"+/-\", dK**0.5, \"[s]\")\n",
    "print(\"e =\", e, \"+/-\", de**0.5, \"[days]\")\n",
    "print(\"b =\", b, \"+/-\", db**0.5, \"[rad]\")\n",
    "print(\"w =\", w, \"+/-\", dw**0.5, \"[rad]\")\n",
    "print(\"w_deg =\", w*(180/np.pi), \"+/-\", dw**0.5*(180/np.pi), \"[deg]\")\n",
    "\n",
    "#The period of the third body\n",
    "P_d = 2*np.pi/b\n",
    "dP_d = P_d*2*np.pi*db/(b**2)\n",
    "\n",
    "#print(\"The orbital period of the third body (years):\",P_d, '+/-', dP_d)\n",
    "print(\"Pc =\", P_d, \"+/-\", dP_d, \"[days]\")\n",
    "\n",
    "P_yr = P_d/365.25\n",
    "dP_yr = dP_d/365.25\n",
    "#print(\"The orbital period of the third body (days):\",P_yr, '+/-', dP_yr)\n",
    "print(\"Pc_yr =\", P_yr, \"+/-\", dP_yr, \"[years]\")\n",
    "\n",
    "a_au = (P_yr**2)**(1./3)     # semi-major axis in au\n",
    "da_au = np.sqrt((2*dP_d/(3*P_d))**2)*a_au\n",
    "#print(\"Semi-major axis (AU):\",a_au, '+/-', da_au)\n",
    "print(\"emi-major axis =\", a_au, \"+/-\", da_au, \"[AU]\")\n",
    "\n",
    "K_auyr = K*2.1096256684e-4      # K in au/yr\n",
    "\n",
    "# compute planet mass and convert to Jupiter-mass units\n",
    "mp = (2*np.pi)**(-1)*K_auyr*np.sqrt(1-e**2)*(P_yr)**(1/3)\n",
    "mp_mjup = mp*1047.59421\n",
    "dmp_mjup = mp_mjup * np.sqrt((dK/K)**2 + (dP_d/(3*P_d))**2 + (e*de/np.sqrt(1-e*e))**2 )\n",
    "\n",
    "print ('Mass sin(i)Mp=', mp_mjup ,'+/-', dmp_mjup, \"[MJ]\")"
   ]
  },
  {
   "cell_type": "code",
   "execution_count": 15,
   "id": "9f26fcfd",
   "metadata": {},
   "outputs": [
    {
     "name": "stdout",
     "output_type": "stream",
     "text": [
      "[  0.63441976   0.6356809    0.63694184  15.23388472  15.25089272\n",
      "  15.25203068  15.4335016   15.70380406  15.70493573  15.70607898\n",
      "  16.19127374  16.20922753  16.26194151  27.70249028  28.14656727\n",
      "  29.37500055  31.850875    32.21663299  32.21733689  25.26619295\n",
      "  21.05501823  21.03410452  12.78406011  12.63737786  12.63586725\n",
      "  12.63435005  12.61315432  12.61164179  12.6101319   12.60861276\n",
      " -47.45056466 -47.45178347 -50.37793836 -50.37793814 -50.37821248\n",
      " -26.97226493 -26.97113579 -26.93613402 -26.88417009 -26.8649576\n",
      " -26.83104286 -26.82991237 -26.82878187 -26.82765117 -26.555837\n",
      " -26.55470252 -26.53881979 -26.53768599 -26.50364147 -26.50250648\n",
      " -26.5013713  -26.50023555 -26.48320835 -26.4820731  -26.46731291\n",
      " -26.46504179 -26.46390612 -26.46277043 -26.44800698 -26.44687145\n",
      " -26.44573572 -25.95599157 -25.95484917 -25.53359074 -25.44175736\n",
      " -25.3130401  -22.88002524 -22.48364673 -22.48246541 -22.46473708\n",
      " -22.44464243 -22.4079901  -22.40680762 -22.38906825 -22.3878852\n",
      " -22.37014274 -21.55110414 -21.54991313 -21.53204554 -21.53085378\n",
      " -21.49511162 -21.47604456 -21.4748534  -21.47366128 -21.41644155\n",
      " -20.80447374 -20.80327548 -20.76493002 -17.99541975   8.00397658\n",
      "   8.95140134   9.57267926  16.50224224  16.51784051  28.19583944\n",
      "  28.19687401  29.0832649   29.0863153   29.52351723  34.25584705\n",
      "  35.0930539   39.36400008  39.77564656  42.35806377  42.5122341\n",
      "  42.51323669  42.51974807  42.52024932  42.53674811  42.53774672\n",
      "  42.59143793  42.81833462  42.94558528  42.98273227]\n",
      "Reduced_chisq: 0.9059991159383147\n"
     ]
    }
   ],
   "source": [
    "x_min, x_max = np.amin(x), np.amax(x)\n",
    "x_line = np.linspace(x_min, x_max)\n",
    "y_line = LTT_fit(x_line, *params) #### For all interporation \n",
    "#print(x_line)\n",
    "print(ocfit)\n",
    "#print(ocfit)\n",
    "#print(x)\n",
    "\n",
    "#Reduced_chisqrt\n",
    "m = 7\n",
    "dof = len_x - m\n",
    "Chi_sqr = ((y - ocfit)**2/(dy)**2)/dof\n",
    "Reduced_chisq = sum(Chi_sqr)\n",
    "print(\"Reduced_chisq:\",Reduced_chisq)"
   ]
  },
  {
   "cell_type": "code",
   "execution_count": 16,
   "id": "e8003572",
   "metadata": {},
   "outputs": [
    {
     "data": {
      "image/png": "[encoded data removed]",
      "text/plain": [
       "<Figure size 504x360 with 1 Axes>"
      ]
     },
     "metadata": {
      "needs_background": "light"
     },
     "output_type": "display_data"
    }
   ],
   "source": [
    "N_BMJD = 2400000\n",
    "#print(phase)\n",
    "#fig,ax = plt.subplots()\n",
    "fig=plt.figure(figsize=(7, 5), tight_layout=True)\n",
    "plt.tick_params(direction='in', which='both', bottom='on',top='on', right = 'on')\n",
    "#plt.errorbar(x,y,dy,fmt='ok')\n",
    "plt.errorbar(x, y, yerr= dy, fmt='o', markersize=8, color='blue', ecolor='lightgray')\n",
    "plt.plot(x_line,y_line,'-r')\n",
    "#plt.title('phased RV data for 51 Peg b')\n",
    "plt.xlabel('BJD-'+str(N_BMJD))\n",
    "plt.ylabel('O-C (sec)')\n",
    "plt.show()"
   ]
  },
  {
   "cell_type": "code",
   "execution_count": 17,
   "id": "e6538e42",
   "metadata": {},
   "outputs": [],
   "source": [
    "N = 700\n",
    "x_range = [i for i in range(N)]\n",
    "x_range_a = [i for i in range(N)]\n",
    "y_range = [i for i in range(len(x_range))]\n",
    "step=1*100\n",
    "#step\n",
    "\n",
    "interporate = []\n",
    "for i in range(300, N):\n",
    "    x_range[i] = i*step\n",
    "    y_range[i] = LTT_fit(x_range[i], *params)\n",
    "#    print(x_range[i], y_range[i])\n",
    "    interporate.append('%0.0f %0.2f %0.5f' %(i, x_range[i], y_range[i]))\n",
    "    \n",
    "data_out = interporate\n",
    "f = open(\"interporate.out\", 'w')\n",
    "for i in range(len(data_out)):\n",
    "    f.write(str(data_out[i])+ '\\n')\n",
    "f.close()"
   ]
  },
  {
   "cell_type": "code",
   "execution_count": 18,
   "id": "b53c8791",
   "metadata": {},
   "outputs": [],
   "source": [
    "InputFile_out = \"interporate.out\"\n",
    "Data_out   = np.genfromtxt(InputFile_out)\n",
    "\n",
    "#Read the wd data: BJD vs. Relative flux\n",
    "x_range = Data_out[:,1]\n",
    "y_range = Data_out[:,2]\n",
    "\n",
    "#print(y_range)"
   ]
  },
  {
   "cell_type": "code",
   "execution_count": 19,
   "id": "d220c04d",
   "metadata": {},
   "outputs": [
    {
     "data": {
      "image/png": "[encoded data removed]",
      "text/plain": [
       "<Figure size 720x360 with 1 Axes>"
      ]
     },
     "metadata": {
      "needs_background": "light"
     },
     "output_type": "display_data"
    }
   ],
   "source": [
    "#Plotgraph\n",
    "fig=plt.figure(figsize=(10, 5))\n",
    "plt.errorbar(x, y, yerr= dy, fmt='o', markersize=8, color='blue', ecolor='lightgray',label='Data')\n",
    "# create a line plot for the mapping function\n",
    "plt.plot(x_range, y_range, '-', color='red',label='LTT\\_fit, $\\chi_{red}^{2}$ = '+str('%0.3f' %(Reduced_chisq)))\n",
    "#plt.plot(BJD_time, OC_s_ecc, lw=2, color='black')\n",
    "#plt.xlim(-6000,6000)\n",
    "#plt.ylim(-200,200)\n",
    "#plt.ylim(-40,60)\n",
    "plt.xlabel('BJD-'+str(N_BMJD))\n",
    "plt.ylabel('O-C (sec)')\n",
    "plt.grid(linestyle='dotted')\n",
    "plt.legend(loc=\"best\")\n",
    "#####plt.title('O-C diagram: DP Leo')\n",
    "#output_filename = os.path.splitext(__file__)[0] + '.png'\n",
    "#plt.savefig(\"DP_Leo_LTT_fit_Demo.jpg\", dpi=1000)\n",
    "plt.show()"
   ]
  },
  {
   "cell_type": "code",
   "execution_count": 20,
   "id": "b954780b",
   "metadata": {},
   "outputs": [
    {
     "data": {
      "image/png": "[encoded data removed]",
      "text/plain": [
       "<Figure size 720x360 with 2 Axes>"
      ]
     },
     "metadata": {
      "needs_background": "light"
     },
     "output_type": "display_data"
    }
   ],
   "source": [
    "fig, (ax0, ax1) = plt.subplots(2, 1, gridspec_kw={'height_ratios': [4, 1]}, sharex=True, sharey=False, figsize=(10, 5), tight_layout=True)\n",
    "plt.xlabel('BJD-'+str(N_BMJD))\n",
    "\n",
    "ax0.tick_params(direction='in', which='both', bottom='on',top='on', right = 'on')\n",
    "ax1.tick_params(direction='in', which='both', bottom='on',top='on', right = 'on')\n",
    "\n",
    "ax0.errorbar(x, y, yerr= dy, fmt='o', markersize=8, color='blue', ecolor='lightgray',label='Data')\n",
    "ax0.plot(x_range, y_range, '-', color='red',label='LTT\\_fit, $\\chi_{red}^{2}$ = '+str('%0.3f' %(Reduced_chisq)))\n",
    "\n",
    "ax0.set_ylabel('O-C (sec)')\n",
    "ax0.legend(loc=\"best\")\n",
    "\n",
    "Residual = y-ocfit\n",
    "\n",
    "ax1.set_ylabel('Residuals (sec)')\n",
    "ax1.errorbar(x, Residual, yerr= dy, fmt='o', markersize=8, color='black', ecolor='lightgray')\n",
    "ax1.axhline(y=0, color='black', linestyle='-')\n",
    "\n",
    "plt.savefig(\"DP_Leo_LTT_fit_Demo2_Res.jpg\", dpi=1000)\n",
    "\n",
    "plt.show()"
   ]
  },
  {
   "cell_type": "code",
   "execution_count": null,
   "id": "f314c1b8",
   "metadata": {},
   "outputs": [],
   "source": []
  }
 ],
 "metadata": {
  "kernelspec": {
   "display_name": "Python 3 (ipykernel)",
   "language": "python",
   "name": "python3"
  },
  "language_info": {
   "codemirror_mode": {
    "name": "ipython",
    "version": 3
   },
   "file_extension": ".py",
   "mimetype": "text/x-python",
   "name": "python",
   "nbconvert_exporter": "python",
   "pygments_lexer": "ipython3",
   "version": "3.9.7"
  }
 },
 "nbformat": 4,
 "nbformat_minor": 5
}
