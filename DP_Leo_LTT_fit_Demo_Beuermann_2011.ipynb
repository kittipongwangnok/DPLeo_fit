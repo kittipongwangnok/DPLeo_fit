{
 "cells": [
  {
   "cell_type": "code",
   "execution_count": 1,
   "id": "570918b7",
   "metadata": {},
   "outputs": [],
   "source": [
    "#Import module\n",
    "import sys\n",
    "import os\n",
    "import numpy as np\n",
    "import matplotlib.pyplot as plt\n",
    "from scipy.optimize import curve_fit\n",
    "from scipy import stats\n",
    "import scipy.optimize as optimization  \n",
    "import pandas as pd\n",
    "#Latex font\n",
    "import matplotlib as mpl\n",
    "from matplotlib import rc\n",
    "plt.rc('text', usetex=True)\n",
    "plt.rc('font', family='serif',size=16)"
   ]
  },
  {
   "cell_type": "code",
   "execution_count": 2,
   "id": "34530e9b",
   "metadata": {},
   "outputs": [
    {
     "name": "stdout",
     "output_type": "stream",
     "text": [
      "2022_Feb_week4_Linear_fit_period.dat\r\n",
      "2022_Feb_week4_Linear_fit_period_Boyd.dat\r\n",
      "2022_Feb_week4_Linear_fit_period_This_work.dat\r\n",
      "2022_Feb_week4_OC_diagram.jpg\r\n",
      "2022_Feb_week4_OC_diagram.out\r\n",
      "2022_Feb_week4_Weighted_mean_calculation_Beuermann_2011_combined.out\r\n",
      "2022_Feb_week4_Weighted_mean_calculation_This_work_combined.out\r\n",
      "2022_Feb_week4_Weighted_mean_calculation_This_work_combined_Boyd.out\r\n",
      "2022_Feb_week4_new_ephemeris_LTT_fit.jpg\r\n",
      "2022_Feb_week4_new_ephemeris_LTT_fit_Beuermann_2011.jpg\r\n",
      "DPLeo.txt\r\n",
      "DP_Leo_LTT_fit.ipynb\r\n",
      "DP_Leo_LTT_fit_Beuermann_2011.ipynb\r\n",
      "DP_Leo_LTT_fit_Beuermann_2011_Res.jpg\r\n",
      "DP_Leo_LTT_fit_Boyd.ipynb\r\n",
      "DP_Leo_LTT_fit_Boyd_Res.jpg\r\n",
      "DP_Leo_LTT_fit_Demo.ipynb\r\n",
      "DP_Leo_LTT_fit_Demo.jpg\r\n",
      "DP_Leo_LTT_fit_Demo1.ipynb\r\n",
      "DP_Leo_LTT_fit_Demo1.jpg\r\n",
      "DP_Leo_LTT_fit_Demo1_Res.jpg\r\n",
      "DP_Leo_LTT_fit_Demo_Beuermann_2011.ipynb\r\n",
      "DP_Leo_LTT_fit_Demo_Res.jpg\r\n",
      "DP_Leo_LTT_fit_Res.jpg\r\n",
      "DP_Leo_LTT_fit_weighted_data.ipynb\r\n",
      "DP_Leo_LTT_fit_weighted_data.jpg\r\n",
      "DP_Leo_LTT_fit_weighted_data_Beuermann_2011.ipynb\r\n",
      "DP_Leo_LTT_fit_weighted_data_Beuermann_2011_Res.jpg\r\n",
      "DP_Leo_LTT_fit_weighted_data_Boyd.ipynb\r\n",
      "DP_Leo_LTT_fit_weighted_data_Boyd_Res.jpg\r\n",
      "DP_Leo_LTT_fit_weighted_data_Demo.ipynb\r\n",
      "DP_Leo_LTT_fit_weighted_data_Demo_Res.jpg\r\n",
      "DP_Leo_LTT_fit_weighted_data_Res.jpg\r\n",
      "DP_Leo_fit.py\r\n",
      "DP_Leo_fit_demo2.ipynb\r\n",
      "DP_Leo_fit_demo5.ipynb\r\n",
      "DP_Leo_fit_weighted_mean.ipynb\r\n",
      "interporate.out\r\n",
      "interporate_dem0.out\r\n",
      "interporate_demo.out\r\n",
      "ocfit.out\r\n",
      "ocfit_out.out\r\n"
     ]
    }
   ],
   "source": [
    "ls"
   ]
  },
  {
   "cell_type": "code",
   "execution_count": 3,
   "id": "14823162",
   "metadata": {},
   "outputs": [],
   "source": [
    "DP_Leo = open(\"2022_Feb_week4_Linear_fit_period_This_work.dat\",'r').readlines()\n",
    "N_dpleo = len(DP_Leo)\n",
    "\n",
    "#Read datat\n",
    "Cycle = []\n",
    "T_obs = []\n",
    "T_obs_err = []\n",
    "#Please change the input file\n",
    "for line in open(\"2022_Feb_week4_Linear_fit_period_This_work.dat\"):\n",
    "    li=line.strip()\n",
    "    if not li.startswith(\"#\"):\n",
    "        Cycle.append(float(li.split(\" \")[0]))\n",
    "        T_obs.append(float(li.split(\" \")[1]))\n",
    "        T_obs_err.append(float(li.split(\" \")[2]))"
   ]
  },
  {
   "cell_type": "code",
   "execution_count": 4,
   "id": "89d20ac9",
   "metadata": {},
   "outputs": [],
   "source": [
    "#New ephemeris\n",
    "T0_bjd = 2448773.21461\n",
    "T0_bjd_err = 0.00009\n",
    "P0_day = 0.0623628426\n",
    "P0_day_err = 0.0000000006"
   ]
  },
  {
   "cell_type": "code",
   "execution_count": 5,
   "id": "9a609b12",
   "metadata": {},
   "outputs": [],
   "source": [
    "#Arrays\n",
    "BJD_time_a = [i for i in range(N_dpleo)]\n",
    "Delta_aT = [i for i in range(N_dpleo)]\n",
    "Delta_aT_err = [i for i in range(N_dpleo)]\n",
    "E_af = [i for i in range(N_dpleo)] #float number\n",
    "E_ak = [i for i in range(N_dpleo)] #integer number\n",
    "E_aj = [i for i in range(N_dpleo)] #integer number\n",
    "P_aE = [i for i in range(N_dpleo)]\n",
    "P_err_aE = [i for i in range(N_dpleo)]\n",
    "T_aC_linear = [i for i in range(N_dpleo)]\n",
    "T_aO_linear = [i for i in range(N_dpleo)]\n",
    "P_aver_a = [i for i in range(N_dpleo)]\n",
    "P_aver_std_a = [i for i in range(N_dpleo)]"
   ]
  },
  {
   "cell_type": "code",
   "execution_count": 6,
   "id": "e35e8898",
   "metadata": {},
   "outputs": [
    {
     "name": "stdout",
     "output_type": "stream",
     "text": [
      "No. \t BJD_time \t Cycle \t T_O_linear \t T_C_linear \t OC_s \t\t OC_s_err\n"
     ]
    }
   ],
   "source": [
    "delta_tdb_tt = 0.0013/(24*60*60)\n",
    "OC_cal = []\n",
    "#print ('-----------------------------------------------------------------------------')\n",
    "#print ('Cycle \\t\\t T_O \\t   T_C \\t\\t BJD - 2450000 \\t OC_lin OC_err_Lin OC_occ')\n",
    "print('No. \\t BJD_time \\t Cycle \\t T_O_linear \\t T_C_linear \\t OC_s \\t\\t OC_s_err')\n",
    "#print ('-----------------------------------------------------------------------------')\n",
    "for i in range (0,N_dpleo):\n",
    "    BJD_time = np.array(T_obs)+delta_tdb_tt\n",
    "    BJD_time_a[i] = BJD_time\n",
    "    Delta_T = np.array(T_obs) - np.array(T0_bjd)\n",
    "    Delta_aT[i] = Delta_T #arrays\n",
    "    Delta_T_err = np.sqrt((np.array(T_obs_err)/np.array(T_obs))**2 + (np.array(T0_bjd_err)/np.array(T0_bjd))**2)\n",
    "    E_k = Cycle\n",
    "    E_ak[i] = E_k #arrays\n",
    "    #    print (Delta_T_err[i])\n",
    "    E_f = Delta_T / P0_day                      #Calculate cycle with float number\n",
    "    ##    print (E_f)                                 #print cycle with float number\n",
    "    E_af[i] = E_f #arrays\n",
    "    E_j = np.round(Delta_T / P0_day)           #Calculate cycle with integer number\n",
    "##print (Delta_T)\n",
    "    if  E_j[i] != 0:\n",
    "        P_E_day = Delta_T[i] / E_j[i]\n",
    "        P_aE[i] = P_E_day\n",
    "        P_E_err_day = np.abs((np.array(T_obs_err[i]) - np.array(T0_bjd_err)) / E_j[i])\n",
    "        P_err_aE[i] = P_E_err_day\n",
    "        T_O_linear = T0_bjd + P_aE[i]*E_j[i]               #Linear\n",
    "        T_aO_linear[i] = T_O_linear #arrays\n",
    "    else:\n",
    "        E_k[i] = 1\n",
    "        P_E_day = Delta_T[i] / E_k[i]\n",
    "#        print (P_E_day)\n",
    "        P_aE[i] = P_E_day\n",
    "        P_E_err_day = np.abs((np.array(T_obs_err[i]) - np.array(T0_bjd_err)) / E_k[i])\n",
    "        P_err_aE[i] = P_E_err_day\n",
    "        T_O_linear = T0_bjd + P_aE[i]*E_k[i]               #Linear\n",
    "        T_aO_linear[i] = T_O_linear #arrays\n",
    "#    print ('%0.6f' %(T_O))\n",
    "#print (E_j)                                #print cycle with integer number\n",
    "    if  E_j[i] != 0:\n",
    "        P_E_day = Delta_T[i] / E_j[i]\n",
    "        P_aE[i] = P_E_day\n",
    "        P_E_err_day = np.abs((np.array(T_obs_err[i]) - np.array(T0_bjd_err)) / E_j[i])\n",
    "#        print (P_E_err_day)\n",
    "        P_err_aE[i] = P_E_err_day\n",
    "        T_C_linear = T0_bjd + P0_day*E_j[i]              #Linear\n",
    "        T_aC_linear[i] = T_C_linear #arrays\n",
    "#    print (T_O, T_C)\n",
    "        OC = np.array(T_O_linear) - np.array(T_C_linear)\n",
    "        OC_s = (np.array(T_O_linear) - np.array(T_C_linear))*24*60*60\n",
    "        OC_err = np.abs(np.sqrt((np.array(P_err_aE[i])**2 + (np.array(P0_day_err)**2))) * np.array(E_j[i]))\n",
    "#        print (OC_err)\n",
    "        OC_s_err = OC_err*24*60*60\n",
    "    else:\n",
    "        P_E_day = Delta_T[i] / E_k[i]\n",
    "        P_aE[i] = P_E_day\n",
    "        P_E_err_day = np.abs((np.array(T_obs_err[i]) - np.array(T0_bjd_err)) / E_k[i])\n",
    "        P_err_aE[i] = P_E_err_day\n",
    "        T_C_linear = T0_bjd + P0_day*E_j[i]              #Linear\n",
    "        T_aC_linear[i] = T_C_linear #arrays\n",
    "#    print (T_O, T_C)\n",
    "        OC = np.array(T_O_linear) - np.array(T_C_linear)\n",
    "        OC_s = (np.array(T_O_linear) - np.array(T_C_linear))*24*60*60\n",
    "        OC_err = np.abs(np.sqrt((np.array(P_err_aE[i])**2)) *np.array(E_k[i]))\n",
    "#        print (OC_err)\n",
    "        OC_s_err = OC_err*24*60*60\n",
    "#    print ('%0.0f\\t%0.6f\\t%0.0f\\t%0.6f\\t%0.6f\\t%0.6f\\t%0.6f' %(i, BJD_time[i], Cycle[i], T_O_linear, T_C_linear, OC_s, OC_s_err))\n",
    "    OC_cal.append('%0.6f\\t%0.0f\\t%0.6f\\t%0.6f\\t%0.6f\\t%0.6f' %(BJD_time[i], Cycle[i], T_O_linear, T_C_linear, OC_s, OC_s_err))\n",
    "\n",
    "#P_aver = mean(P_aE[i])\n",
    "#P_aver_a[i] = P_aver\n",
    "#P_aver_std = np.std(P_aE[i])\n",
    "#P_aver_std = mean(P_err_aE[i])\n",
    "#P_aver_std_a[i] = P_aver_std\n",
    "#print('%0.11f %0.11f' %(P_aver, P_aver_std))\n",
    "\n",
    "rerults = OC_cal\n",
    "f = open(\"2022_Feb_week4_OC_diagram.out\", 'w')\n",
    "for i in range(len(rerults)):\n",
    "    f.write(str(rerults[i])+ '\\n')\n",
    "f.close()"
   ]
  },
  {
   "cell_type": "code",
   "execution_count": 7,
   "id": "eb0ac073",
   "metadata": {},
   "outputs": [
    {
     "data": {
      "image/png": "[encoded data removed]",
      "text/plain": [
       "<Figure size 720x360 with 1 Axes>"
      ]
     },
     "metadata": {
      "needs_background": "light"
     },
     "output_type": "display_data"
    }
   ],
   "source": [
    "#Plot O-C vs BJD\n",
    "Input  = '2022_Feb_week4_OC_diagram.out'\n",
    "Data   = np.genfromtxt(Input)\n",
    "\n",
    "N_BMJD = 2400000\n",
    "BJD_time = Data[:,0] - N_BMJD\n",
    "Cycle = Data[:,1]\n",
    "T_O_linear = Data[:,2]\n",
    "T_C_linear = Data[:,3]\n",
    "OC_s = Data[:,4]\n",
    "OC_s_err = Data[:,5]\n",
    "\n",
    " ##Plotgraph\n",
    "fig=plt.figure(figsize=(10, 5), tight_layout=True)\n",
    "plt.tick_params(direction='in', which='both', bottom='on',top='on', right = 'on')\n",
    "\n",
    "x1 = min(BJD_time)\n",
    "x2 = max(BJD_time)\n",
    "#plt.errorbar(BJD_time, OC_s, yerr=OC_s_err, fmt='o', color='limegreen')\n",
    "plt.errorbar(BJD_time, OC_s, yerr= OC_s_err, fmt='o', markersize=8, color='green',\n",
    "                    ecolor='lightgray')\n",
    "\n",
    "#Schwope_2002\n",
    "#plt.text(BJD_time_Schwope_2002[0], 300, '1979')\n",
    "#plt.text(BJD_time_Schwope_2002[3], 300, '1981')\n",
    "#plt.text(BJD_time_Schwope_2002[13], 300, '1984')\n",
    "#plt.text(BJD_time_Schwope_2002[17], 300, '1985')\n",
    "#plt.text(BJD_time_Schwope_2002[19]-100, 300, '1991')\n",
    "#plt.text(BJD_time_Schwope_2002[20], 300, '1992')\n",
    "#plt.text(BJD_time_Schwope_2002[22], 300, '1993')\n",
    "#plt.text(BJD_time_Schwope_2002[30], 300, '2000')\n",
    "#plt.text(BJD_time_Schwope_2002[32], 300, '2002')\n",
    "\n",
    "#plt.hlines(y= 0, xmin= x1, xmax= x2, colors='k', linestyles='dotted')\n",
    "#plt.xlim(x1,x2)\n",
    "#plt.ylim(-20,20)\n",
    "plt.xlabel('BJD - '+str(N_BMJD))\n",
    "plt.ylabel('O-C (sec)')\n",
    "#plt.legend()\n",
    "plt.grid(linestyle='dotted')\n",
    "######plt.title('O-C diagram: DP Leo')\n",
    "#output_filename = os.path.splitext(__file__)[0] + '.png'\n",
    "#plt.savefig(output_filename, dpi=1000)\n",
    "plt.savefig(\"2022_Feb_week4_OC_diagram.jpg\", dpi=1000)\n",
    "plt.show()"
   ]
  },
  {
   "cell_type": "code",
   "execution_count": 8,
   "id": "be57f3f6",
   "metadata": {},
   "outputs": [],
   "source": [
    "#Read data ---#1\n",
    "Input = \"2022_Feb_week4_OC_diagram.out\"\n",
    "Data   = np.genfromtxt(Input)\n",
    "\n",
    "BJD_time = Data[:,0] - N_BMJD\n",
    "Epoch = Data[:,1]\n",
    "OC = Data[:,4]\n",
    "OC_err = Data[:,5]"
   ]
  },
  {
   "cell_type": "code",
   "execution_count": 9,
   "id": "fe9852a0",
   "metadata": {},
   "outputs": [],
   "source": [
    "#t = T0_bjd + P0_day*Epoch\n",
    "x = BJD_time\n",
    "y = OC\n",
    "dy = OC_err\n",
    "\n",
    "len_x = len(x)\n",
    "#print(len_x)\n",
    "#print(x)"
   ]
  },
  {
   "cell_type": "code",
   "execution_count": 10,
   "id": "2654721c",
   "metadata": {},
   "outputs": [],
   "source": [
    "from scipy.optimize import fsolve\n",
    "from scipy.optimize import curve_fit"
   ]
  },
  {
   "cell_type": "code",
   "execution_count": 11,
   "id": "8e7a5e63",
   "metadata": {},
   "outputs": [],
   "source": [
    "K1 = 33.7        #m/s\n",
    "P1 = 10220       #days\n",
    "e1 = 0.39               #No-unit\n",
    "w1 = -1.36           #rad\n",
    "tau1 = 53025     #days\n",
    "\n",
    "K2 = 91 #m/s\n",
    "P2 = 45877      #days\n",
    "e2 = 0.74               #No-unit\n",
    "w2 = -0.35           #rad\n",
    "tau2 = 56666.28955582229     #days"
   ]
  },
  {
   "cell_type": "code",
   "execution_count": 12,
   "id": "b03f4960",
   "metadata": {},
   "outputs": [],
   "source": [
    "def TAno1(P1,tau1,e1,t):\n",
    "    MAno1 = 2*np.pi/P1*((t-tau1)%P1)\n",
    "    EFunc1 = lambda x: x-e1*np.sin(x)-MAno1\n",
    "    EAno1 = fsolve(EFunc1, MAno1)\n",
    "    f1 = np.arccos((np.cos(EAno1)-e1)/(1-e1*np.cos(EAno1)))\n",
    "    f1 = np.where(EAno1>np.pi,-f1,f1)\n",
    "    return f1\n",
    "\n",
    "def TAno2(P2,tau2,e2,t):\n",
    "    MAno2 = 2*np.pi/P2*((t-tau2)%P2)\n",
    "    EFunc2 = lambda x: x-e2*np.sin(x)-MAno2\n",
    "    EAno2 = fsolve(EFunc2, MAno2)\n",
    "    f2 = np.arccos((np.cos(EAno2)-e2)/(1-e2*np.cos(EAno2)))\n",
    "    f2 = np.where(EAno2>np.pi,-f2,f2)\n",
    "    return f2"
   ]
  },
  {
   "cell_type": "code",
   "execution_count": 13,
   "id": "b87a2de1",
   "metadata": {},
   "outputs": [],
   "source": [
    "def keplerian_fit(t,K1,P1,e1,w1,tau1,K2,P2,e2,w2,tau2):\n",
    "    f1 = TAno1(P1,tau1,e1,t)\n",
    "    f2 = TAno2(P2,tau2,e2,t)\n",
    "    return K1*((1-e1*e1)/(1+e1*np.cos(f1))*np.sin(f1+w1)) + K2*((1-e2*e2)/(1+e2*np.cos(f2))*np.sin(f2+w2))"
   ]
  },
  {
   "cell_type": "code",
   "execution_count": 14,
   "id": "9cf4861b",
   "metadata": {},
   "outputs": [
    {
     "name": "stderr",
     "output_type": "stream",
     "text": [
      "/Users/kittipongwangnok/anaconda3/lib/python3.9/site-packages/scipy/optimize/minpack.py:175: RuntimeWarning: The iteration is not making good progress, as measured by the \n",
      "  improvement from the last five Jacobian evaluations.\n",
      "  warnings.warn(msg, RuntimeWarning)\n",
      "/var/folders/40/qs1cq6qj3mn08n4rf87fxb6m0000gn/T/ipykernel_53999/1859763700.py:13: RuntimeWarning: invalid value encountered in arccos\n",
      "  f2 = np.arccos((np.cos(EAno2)-e2)/(1-e2*np.cos(EAno2)))\n"
     ]
    },
    {
     "name": "stdout",
     "output_type": "stream",
     "text": [
      "The Keplerian parameters:\n",
      "K1 = 38.19281198867622 +/- 8.172320543996957 [s]\n",
      "P_d1 = 9547.190872750552 +/- 900.2914736837881 [days]\n",
      "P_yr1 = 26.138784045860515 +/- 2.464863719873479 [years]\n",
      "e1 = 0.7169014050873406 +/- 0.11534954573877154 [-]\n",
      "w1 = -1.2097318873693341 +/- 0.203950301520758 [rad]\n",
      "w_deg1 = -69.31253148865831 +/- 11.685491507560009 [deg]\n",
      "tau1 = 53154.33644117938 +/- 477.9708806628346 [days]\n",
      "K2 = 283.5664244106514 +/- 470.76147824326176 [s]\n",
      "P_d2 = 336926.22684831213 +/- 849291.5849431617 [days]\n",
      "P_yr2 = 922.4537353821003 +/- 2325.2336343413053 [years]\n",
      "e2 = 0.9561314797977382 +/- 0.08643941142734096 [-]\n",
      "w2 = -0.4423944217117161 +/- 0.22597090074755688 [rad]\n",
      "w_deg2 = -25.347333244212045 +/- 12.947178905604629 [deg]\n",
      "tau2 = 56623.790195937625 +/- 395.13186879424524 [days]\n"
     ]
    }
   ],
   "source": [
    "import scipy.optimize as optimization  \n",
    "guess = (K1,P1,e1,w1,tau1,K2,P2,e2,w2,tau2)\n",
    "params, params_covariance = optimization.curve_fit(keplerian_fit, x, y,sigma=dy, absolute_sigma=True,p0=guess, maxfev = 10000)\n",
    "\n",
    "K1 = params[0]\n",
    "P1 = params[1]\n",
    "e1 = params[2]\n",
    "w1 = params[3]\n",
    "tau1 = params[4]\n",
    "\n",
    "dK1 = params_covariance[0,0]\n",
    "dP1 = params_covariance[1,1]\n",
    "de1 = params_covariance[2,2]\n",
    "dw1 = params_covariance[3,3]\n",
    "dtau1 = params_covariance[4,4]\n",
    "\n",
    "K2 = params[5]\n",
    "P2 = params[6]\n",
    "e2 = params[7]\n",
    "w2 = params[8]\n",
    "tau2 = params[9]\n",
    "\n",
    "dK2 = params_covariance[5,5]\n",
    "dP2 = params_covariance[6,6]\n",
    "de2 = params_covariance[7,7]\n",
    "dw2 = params_covariance[8,8]\n",
    "dtau2 = params_covariance[9,9]\n",
    "\n",
    "\n",
    "ocfit = keplerian_fit(x,K1,P1,e1,w1,tau1,K2,P2,e2,w2,tau2)\n",
    "#print(ocfit)\n",
    "\n",
    "print(\"The Keplerian parameters:\")\n",
    "print(\"K1 =\", K1, \"+/-\", dK1**0.5, \"[s]\")\n",
    "print(\"P_d1 =\", P1, \"+/-\", dP1**0.5, \"[days]\")\n",
    "print(\"P_yr1 =\", P1/365.25, \"+/-\", (dP1**0.5)/365.25, \"[years]\")\n",
    "print(\"e1 =\", e1, \"+/-\", de1**0.5, \"[-]\")\n",
    "print(\"w1 =\", w1, \"+/-\", dw1**0.5, \"[rad]\")\n",
    "print(\"w_deg1 =\", w1*(180/np.pi), \"+/-\", dw1**0.5*(180/np.pi), \"[deg]\")\n",
    "print(\"tau1 =\", tau1, \"+/-\", dtau1**0.5, \"[days]\")\n",
    "#print ('a=', a_au ,'+/-', da_au, '[AU]')\n",
    "#print ('Mpsin(i)=', mp_mjup ,'+/-', dmp_mjup, '[MJ]')\n",
    "\n",
    "print(\"K2 =\", K2, \"+/-\", dK2**0.5, \"[s]\")\n",
    "print(\"P_d2 =\", P2, \"+/-\", dP2**0.5, \"[days]\")\n",
    "print(\"P_yr2 =\", P2/365.25, \"+/-\", (dP2**0.5)/365.25, \"[years]\")\n",
    "print(\"e2 =\", e2, \"+/-\", de2**0.5, \"[-]\")\n",
    "print(\"w2 =\", w2, \"+/-\", dw2**0.5, \"[rad]\")\n",
    "print(\"w_deg2 =\", w2*(180/np.pi), \"+/-\", dw2**0.5*(180/np.pi), \"[deg]\")\n",
    "print(\"tau2 =\", tau2, \"+/-\", dtau2**0.5, \"[days]\")\n"
   ]
  },
  {
   "cell_type": "code",
   "execution_count": 15,
   "id": "937e1a9c",
   "metadata": {},
   "outputs": [
    {
     "name": "stdout",
     "output_type": "stream",
     "text": [
      "Reduced_chisq: 0.6769780209024525\n"
     ]
    }
   ],
   "source": [
    "x_min, x_max = np.amin(x), np.amax(x)\n",
    "x_line = np.linspace(x_min, x_max)\n",
    "y_line = keplerian_fit(x_line, *params) #### For all interporation \n",
    "#print(y)\n",
    "#print(ocfit)\n",
    "#print(x)\n",
    "\n",
    "#Reduced_chisqrt\n",
    "m = 5\n",
    "dof = len_x - m\n",
    "Chi_sqr = ((y - ocfit)**2/(dy)**2)/dof\n",
    "Reduced_chisq = sum(Chi_sqr)\n",
    "print(\"Reduced_chisq:\",Reduced_chisq)"
   ]
  },
  {
   "cell_type": "code",
   "execution_count": 16,
   "id": "0f4ca1d5",
   "metadata": {},
   "outputs": [
    {
     "data": {
      "image/png": "[encoded data removed]",
      "text/plain": [
       "<Figure size 504x360 with 1 Axes>"
      ]
     },
     "metadata": {
      "needs_background": "light"
     },
     "output_type": "display_data"
    }
   ],
   "source": [
    "#print(phase)\n",
    "#fig,ax = plt.subplots()\n",
    "fig=plt.figure(figsize=(7, 5), tight_layout=True)\n",
    "plt.tick_params(direction='in', which='both', bottom='on',top='on', right = 'on')\n",
    "#plt.errorbar(x,y,dy,fmt='ok')\n",
    "plt.errorbar(x, y, yerr= dy, fmt='o', markersize=8, color='blue', ecolor='lightgray')\n",
    "plt.plot(x_line,y_line,'-r')\n",
    "#plt.title('phased RV data for 51 Peg b')\n",
    "plt.xlabel('BJD-'+str(N_BMJD))\n",
    "plt.ylabel('O-C (sec)')\n",
    "plt.show()"
   ]
  },
  {
   "cell_type": "code",
   "execution_count": 17,
   "id": "1ea7eef6",
   "metadata": {},
   "outputs": [
    {
     "data": {
      "image/png": "[encoded data removed]",
      "text/plain": [
       "<Figure size 720x360 with 2 Axes>"
      ]
     },
     "metadata": {
      "needs_background": "light"
     },
     "output_type": "display_data"
    }
   ],
   "source": [
    "fig, (ax0, ax1) = plt.subplots(2, 1, gridspec_kw={'height_ratios': [4, 1]}, sharex=True, sharey=False, figsize=(10, 5), tight_layout=True)\n",
    "plt.xlabel('BJD-'+str(N_BMJD))\n",
    "\n",
    "ax0.tick_params(direction='in', which='both', bottom='on',top='on', right = 'on')\n",
    "ax1.tick_params(direction='in', which='both', bottom='on',top='on', right = 'on')\n",
    "\n",
    "ax0.errorbar(x, y, yerr= dy, fmt='o', markersize=8, color='blue', ecolor='lightgray')\n",
    "ax0.plot(x_line, y_line, '-', color='red')\n",
    "\n",
    "ax0.set_ylabel('O-C (sec)')\n",
    "ax1.set_ylabel('Residuals (sec)')\n",
    "\n",
    "\n",
    "Residual = y-ocfit\n",
    "\n",
    "ax1.errorbar(x, Residual, yerr= dy, fmt='o', markersize=8, color='black', ecolor='lightgray')\n",
    "\n",
    "ax1.axhline(y=0, color='black', linestyle='-')\n",
    "\n",
    "#plt.savefig(\"2022_Feb_week4_new_ephemeris_sin_fit_Res.jpg\", dpi=1000)\n",
    "\n",
    "plt.show()"
   ]
  },
  {
   "cell_type": "code",
   "execution_count": 18,
   "id": "e359d3fd",
   "metadata": {},
   "outputs": [],
   "source": [
    "N = 700\n",
    "x_range = [i for i in range(N)]\n",
    "x_range_a = [i for i in range(N)]\n",
    "y_range = [i for i in range(len(x_range))]\n",
    "step=1*100\n",
    "#step\n",
    "\n",
    "interporate = []\n",
    "for i in range(300, N):\n",
    "    x_range[i] = i*step\n",
    "    y_range[i] = keplerian_fit(x_range[i], *params)\n",
    "#    print(x_range[i], y_range[i])\n",
    "    interporate.append('%0.0f %0.2f %0.5f' %(i, x_range[i], y_range[i]))\n",
    "    \n",
    "data_out = interporate\n",
    "f = open(\"interporate.out\", 'w')\n",
    "for i in range(len(data_out)):\n",
    "    f.write(str(data_out[i])+ '\\n')\n",
    "f.close()"
   ]
  },
  {
   "cell_type": "code",
   "execution_count": 19,
   "id": "a76952c9",
   "metadata": {},
   "outputs": [],
   "source": [
    "InputFile_out = \"interporate.out\"\n",
    "Data_out   = np.genfromtxt(InputFile_out)\n",
    "\n",
    "#Read the wd data: BJD vs. Relative flux\n",
    "x_range = Data_out[:,1]\n",
    "y_range = Data_out[:,2]\n",
    "\n",
    "#print(y_range)"
   ]
  },
  {
   "cell_type": "code",
   "execution_count": 20,
   "id": "963dba7e",
   "metadata": {},
   "outputs": [
    {
     "data": {
      "image/png": "[encoded data removed]",
      "text/plain": [
       "<Figure size 720x360 with 1 Axes>"
      ]
     },
     "metadata": {
      "needs_background": "light"
     },
     "output_type": "display_data"
    }
   ],
   "source": [
    "#Plotgraph\n",
    "fig=plt.figure(figsize=(10, 5))\n",
    "plt.errorbar(x, y, yerr= dy, fmt='o', markersize=8, color='blue', ecolor='lightgray',label='Data')\n",
    "# create a line plot for the mapping function\n",
    "plt.plot(x_range, y_range, '-', color='red',label='LTT\\_fit, $\\chi_{red}^{2}$ = '+str('%0.3f' %(Reduced_chisq)))\n",
    "#plt.plot(BJD_time, OC_s_ecc, lw=2, color='black')\n",
    "#plt.xlim(-6000,6000)\n",
    "#plt.ylim(-200,200)\n",
    "#plt.ylim(-40,60)\n",
    "plt.xlabel('BJD-'+str(N_BMJD))\n",
    "plt.ylabel('O-C (sec)')\n",
    "plt.grid(linestyle='dotted')\n",
    "plt.legend(loc=\"best\")\n",
    "#####plt.title('O-C diagram: DP Leo')\n",
    "#output_filename = os.path.splitext(__file__)[0] + '.png'\n",
    "plt.savefig(\"2022_Feb_week4_new_ephemeris_LTT_fit.jpg\", dpi=1000)\n",
    "plt.show()"
   ]
  },
  {
   "cell_type": "code",
   "execution_count": 21,
   "id": "46cb67c0",
   "metadata": {},
   "outputs": [
    {
     "data": {
      "image/png": "[encoded data removed]",
      "text/plain": [
       "<Figure size 720x360 with 2 Axes>"
      ]
     },
     "metadata": {
      "needs_background": "light"
     },
     "output_type": "display_data"
    }
   ],
   "source": [
    "fig, (ax0, ax1) = plt.subplots(2, 1, gridspec_kw={'height_ratios': [4, 1]}, sharex=True, sharey=False, figsize=(10, 5), tight_layout=True)\n",
    "plt.xlabel('BJD-'+str(N_BMJD))\n",
    "\n",
    "ax0.tick_params(direction='in', which='both', bottom='on',top='on', right = 'on')\n",
    "ax1.tick_params(direction='in', which='both', bottom='on',top='on', right = 'on')\n",
    "\n",
    "ax0.errorbar(x, y, yerr= dy, fmt='o', markersize=8, color='blue', ecolor='lightgray',label='Data')\n",
    "ax0.plot(x_range, y_range, '-', color='red',label='LTT\\_fit, $\\chi_{red}^{2}$ = '+str('%0.3f' %(Reduced_chisq)))\n",
    "\n",
    "ax0.set_ylabel('O-C (sec)')\n",
    "ax0.legend(loc=\"best\")\n",
    "\n",
    "Residual = y-ocfit\n",
    "\n",
    "ax1.set_ylabel('Residuals (sec)')\n",
    "ax1.errorbar(x, Residual, yerr= dy, fmt='o', markersize=8, color='black', ecolor='lightgray')\n",
    "ax1.axhline(y=0, color='black', linestyle='-')\n",
    "\n",
    "plt.savefig(\"DP_Leo_LTT_fit_Res.jpg\", dpi=1000)\n",
    "\n",
    "plt.show()"
   ]
  },
  {
   "cell_type": "code",
   "execution_count": null,
   "id": "0c97d071",
   "metadata": {},
   "outputs": [],
   "source": []
  }
 ],
 "metadata": {
  "kernelspec": {
   "display_name": "Python 3 (ipykernel)",
   "language": "python",
   "name": "python3"
  },
  "language_info": {
   "codemirror_mode": {
    "name": "ipython",
    "version": 3
   },
   "file_extension": ".py",
   "mimetype": "text/x-python",
   "name": "python",
   "nbconvert_exporter": "python",
   "pygments_lexer": "ipython3",
   "version": "3.9.7"
  }
 },
 "nbformat": 4,
 "nbformat_minor": 5
}
