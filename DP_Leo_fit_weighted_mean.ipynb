{
 "cells": [
  {
   "cell_type": "code",
   "execution_count": 1,
   "id": "b1d55024",
   "metadata": {},
   "outputs": [],
   "source": [
    "#Import module\n",
    "import sys\n",
    "import os\n",
    "import numpy as np\n",
    "import matplotlib.pyplot as plt\n",
    "from scipy.optimize import curve_fit\n",
    "from scipy import stats\n",
    "import scipy.optimize as optimization  \n",
    "import pandas as pd\n",
    "#Latex font\n",
    "import matplotlib as mpl\n",
    "from matplotlib import rc\n",
    "plt.rc('text', usetex=True)\n",
    "plt.rc('font', family='serif',size=16)"
   ]
  },
  {
   "cell_type": "code",
   "execution_count": 2,
   "id": "1b4a8c0f",
   "metadata": {},
   "outputs": [
    {
     "name": "stdout",
     "output_type": "stream",
     "text": [
      "2022_Feb_week4_Linear_fit_period.dat\r\n",
      "2022_Feb_week4_Linear_fit_period_Boyd.dat\r\n",
      "2022_Feb_week4_Linear_fit_period_This_work.dat\r\n",
      "2022_Feb_week4_OC_diagram.jpg\r\n",
      "2022_Feb_week4_OC_diagram.out\r\n",
      "2022_Feb_week4_Weighted_mean_calculation_This_work_combined.out\r\n",
      "51Pegb.ipynb\r\n",
      "51Pegb.txt\r\n",
      "51Pegb_example_fit.ipynb\r\n",
      "DP_Leo_fit.ipynb\r\n",
      "DP_Leo_fit_weighted_mean.ipynb\r\n"
     ]
    }
   ],
   "source": [
    "ls"
   ]
  },
  {
   "cell_type": "code",
   "execution_count": 3,
   "id": "cd3fa5f5",
   "metadata": {},
   "outputs": [],
   "source": [
    "#Read data ---#1\n",
    "Input = \"2022_Feb_week4_Weighted_mean_calculation_This_work_combined.out\"\n",
    "Data   = np.genfromtxt(Input)\n",
    "\n",
    "BMJD = Data[:,0]\n",
    "OC = Data[:,1]\n",
    "OC_err = Data[:,2]"
   ]
  },
  {
   "cell_type": "code",
   "execution_count": 4,
   "id": "7e3ec3b2",
   "metadata": {},
   "outputs": [
    {
     "name": "stdout",
     "output_type": "stream",
     "text": [
      "34\n"
     ]
    }
   ],
   "source": [
    "#t = T0_bjd + P0_day*Epoch\n",
    "N = 2400000\n",
    "\n",
    "x = BMJD\n",
    "y = OC\n",
    "dy = OC_err\n",
    "\n",
    "len_x = len(x)\n",
    "print(len_x)"
   ]
  },
  {
   "cell_type": "code",
   "execution_count": 5,
   "id": "b602b044",
   "metadata": {},
   "outputs": [],
   "source": [
    "K = 33.7        #m/s\n",
    "P = 10220         #days\n",
    "e = 0.39               #No-unit\n",
    "w = -1.36           #rad\n",
    "tau = 53025     #days"
   ]
  },
  {
   "cell_type": "code",
   "execution_count": 6,
   "id": "e6e28b6f",
   "metadata": {},
   "outputs": [],
   "source": [
    "from scipy.optimize import fsolve\n",
    "from scipy.optimize import curve_fit"
   ]
  },
  {
   "cell_type": "code",
   "execution_count": 7,
   "id": "481b9fa9",
   "metadata": {},
   "outputs": [],
   "source": [
    "def solve_kepler(M,e):\n",
    "    eanom = np.zeros(M.shape)\n",
    "    for i,mi in enumerate(M):\n",
    "        # do iterative root solve with e=0 giving E=M as guess\n",
    "        tmp,=fsolve(lambda E: E-e*np.sin(E)-mi,mi)\n",
    "        eanom[i] = tmp\n",
    "    return eanom"
   ]
  },
  {
   "cell_type": "code",
   "execution_count": 8,
   "id": "45df24a4",
   "metadata": {},
   "outputs": [],
   "source": [
    "def keplerian_fit(t,K,P,e,w,tau):\n",
    "        e_anomaly = solve_kepler((t-tau)*2*np.pi/P,e)\n",
    "        theta = 2*np.arctan2(np.sqrt(1.+e)*np.sin(0.5*e_anomaly),\n",
    "                             np.sqrt(1.-e)*np.cos(0.5*e_anomaly))\n",
    "        return K*(np.cos(theta+w)+e*np.cos(w))"
   ]
  },
  {
   "cell_type": "code",
   "execution_count": 9,
   "id": "6eb885ca",
   "metadata": {},
   "outputs": [
    {
     "name": "stdout",
     "output_type": "stream",
     "text": [
      "[ -6.84836235  41.62254354  31.46229911   7.08678453  -4.42771105\n",
      "   6.93081337  31.26490084 -34.02442977 -25.69753707 -12.46904221\n",
      " -13.85921939 -15.66831319 -17.33742    -24.1003545  -25.09608452\n",
      " -26.95702303 -28.23486859 -32.18805912 -21.83358426  -6.78646446\n",
      "  32.3174283   36.84969181  36.84969181  48.58737286  15.74605568\n",
      " -35.71818612 -29.93307825 -19.8754845   12.35851783  39.39245246\n",
      "  58.8551901   45.80348205  10.72825623 -18.60380413]\n",
      "48.46196726126754 -4294.931430063285 0.27429474633114703 -0.4479540363142087 -25.665875696654172 47723.59210638666\n",
      "The parameters of egress part\n",
      "K = 48.46196726126754 +/- 1.0771044704483417\n",
      "P = -4294.931430063285 +/- 10.10584115433267\n",
      "e = 0.27429474633114703 +/- 0.01699965210602501\n",
      "w = -0.4479540363142087 +/- 0.0546699275387392\n",
      "w_deg = -25.665875696654176 +/- 3.1323561142557885\n",
      "tau = 47723.59210638666 +/- 40.1086207784815\n"
     ]
    }
   ],
   "source": [
    "import scipy.optimize as optimization  \n",
    "guess = (K,P,e,w,tau)\n",
    "params, params_covariance = optimization.curve_fit(keplerian_fit, x, y,sigma=dy, absolute_sigma=True,p0=guess)\n",
    "\n",
    "K = params[0]\n",
    "P = params[1]\n",
    "e = params[2]\n",
    "w = params[3]\n",
    "tau = params[4]\n",
    "\n",
    "dK = params_covariance[0,0]\n",
    "dP = params_covariance[1,1]\n",
    "de = params_covariance[2,2]\n",
    "dw = params_covariance[3,3]\n",
    "dtau = params_covariance[4,4]\n",
    "\n",
    "\n",
    "oc_fit = keplerian_fit(x,K,P,e,w,tau)\n",
    "print(oc_fit)\n",
    "\n",
    "if e<0:\n",
    "    w -= np.pi\n",
    "    e *= -1\n",
    "    w_deg = w*180/np.pi\n",
    "    print(K,P,e,w,w_deg,tau)\n",
    "\n",
    "\n",
    "print(\"The parameters of egress part\")\n",
    "print(\"K =\", K, \"+/-\", dK**0.5)\n",
    "print(\"P =\", P, \"+/-\", dP**0.5)\n",
    "print(\"e =\", e, \"+/-\", de**0.5)\n",
    "print(\"w =\", w, \"+/-\", dw**0.5)\n",
    "print(\"w_deg =\", w*(180/np.pi), \"+/-\", dw**0.5*(180/np.pi))\n",
    "print(\"tau =\", tau, \"+/-\", dtau**0.5)"
   ]
  },
  {
   "cell_type": "code",
   "execution_count": 10,
   "id": "4b47f35a",
   "metadata": {},
   "outputs": [
    {
     "name": "stdout",
     "output_type": "stream",
     "text": [
      "[44214.61562    44672.26631848 45129.91701697 45587.56771545\n",
      " 46045.21841394 46502.86911242 46960.51981091 47418.17050939\n",
      " 47875.82120788 48333.47190636 48791.12260485 49248.77330333\n",
      " 49706.42400182 50164.0747003  50621.72539879 51079.37609727\n",
      " 51537.02679576 51994.67749424 52452.32819273 52909.97889121\n",
      " 53367.6295897  53825.28028818 54282.93098667 54740.58168515\n",
      " 55198.23238364 55655.88308212 56113.53378061 56571.18447909\n",
      " 57028.83517758 57486.48587606 57944.13657455 58401.78727303\n",
      " 58859.43797152 59317.08867   ]\n",
      "[44214.61562 44993.45298 45851.40631 46086.96681 48560.5578  48773.71401\n",
      " 49143.77505 51870.83925 52284.71018 54919.76589 54941.30349 54970.67822\n",
      " 54999.31317 55135.97098 55159.94602 55208.61678 55245.62567 55389.66308\n",
      " 56712.00516 57100.74409 57748.32002 57811.3377  57811.3377  58561.25098\n",
      " 58884.35291 56004.24921 56403.30917 56772.18547 57453.81143 57846.8222\n",
      " 58187.51041 58593.24301 58934.11856 59317.08867]\n"
     ]
    }
   ],
   "source": [
    "x_min, x_max = np.amin(x), np.amax(x)\n",
    "x_line = np.linspace(x_min, x_max, len_x)\n",
    "y_line = keplerian_fit(x_line, *params) #### For all interporation \n",
    "print(x_line)\n",
    "print(x)"
   ]
  },
  {
   "cell_type": "code",
   "execution_count": 11,
   "id": "2ad7be40",
   "metadata": {},
   "outputs": [
    {
     "data": {
      "image/png": "[encoded data removed]",
      "text/plain": [
       "<Figure size 504x360 with 1 Axes>"
      ]
     },
     "metadata": {
      "needs_background": "light"
     },
     "output_type": "display_data"
    }
   ],
   "source": [
    "#print(phase)\n",
    "#fig,ax = plt.subplots()\n",
    "fig=plt.figure(figsize=(7, 5), tight_layout=True)\n",
    "plt.tick_params(direction='in', which='both', bottom='on',top='on', right = 'on')\n",
    "plt.errorbar(x,y,dy,fmt='.k')\n",
    "plt.plot(x_line,y_line,'-b')\n",
    "#plt.title('phased RV data for 51 Peg b')\n",
    "plt.xlabel('BJD-'+str(N))\n",
    "plt.ylabel('O-C (sec)')\n",
    "plt.show()"
   ]
  },
  {
   "cell_type": "code",
   "execution_count": null,
   "id": "1890351a",
   "metadata": {},
   "outputs": [],
   "source": []
  }
 ],
 "metadata": {
  "kernelspec": {
   "display_name": "Python 3 (ipykernel)",
   "language": "python",
   "name": "python3"
  },
  "language_info": {
   "codemirror_mode": {
    "name": "ipython",
    "version": 3
   },
   "file_extension": ".py",
   "mimetype": "text/x-python",
   "name": "python",
   "nbconvert_exporter": "python",
   "pygments_lexer": "ipython3",
   "version": "3.9.7"
  }
 },
 "nbformat": 4,
 "nbformat_minor": 5
}
